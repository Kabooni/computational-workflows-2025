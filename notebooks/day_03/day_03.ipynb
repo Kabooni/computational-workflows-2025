{
 "cells": [
  {
   "cell_type": "markdown",
   "metadata": {},
   "source": [
    "# Differential expression analysis\n"
   ]
  },
  {
   "cell_type": "markdown",
   "metadata": {},
   "source": [
    "You have run the nf-core/rnaseq pipeline and checked the first quality control metrics of your fastq files. This was, however, only the primary analysis and we want to take it further.\n",
    "\n",
    "Due to the computational demand of the pipeline, you only ran the pipeline on two of the 16 samples in the study yesterday. We provide you an essential output of nf-core/rnaseq pipeline in the `data` folder: It contains the combined epression matrix as produced by Salmon, which provides transcript levels for each gene (rows) and each sample (columns).\n"
   ]
  },
  {
   "cell_type": "markdown",
   "metadata": {},
   "source": [
    "We would now like to understand exactly the difference between the expression in our groups of mice. \n",
    "Which pipeline would you use for this?"
   ]
  },
  {
   "cell_type": "markdown",
   "metadata": {
    "vscode": {
     "languageId": "shellscript"
    }
   },
   "source": [
    "Differentialabundance."
   ]
  },
  {
   "cell_type": "markdown",
   "metadata": {},
   "source": [
    "Have a close look at the pipeline's \"Usage\" page on the [nf-core docs](nf-co.re). You will need to create a samplesheet (based on the column names in the provided matrix).\n",
    "\n",
    "-> Found in data/samesheet. It contains a column for the sample (column names of the gene count matrix) and the condition (as defined in the contrast file)."
   ]
  },
  {
   "cell_type": "markdown",
   "metadata": {},
   "source": [
    "Please paste here the command you used. You may need to inspect the provided expression matrix more closely and create additional files, like a samplesheet (based on the column names) or a contrast file (there happens to also be one in `data/` that you can use)."
   ]
  },
  {
   "cell_type": "code",
   "execution_count": null,
   "metadata": {},
   "outputs": [],
   "source": [
    "!nextflow run nf-core/differentialabundance -r 1.5.0 --input ./data/samplesheet.csv --outdir ./output_abundance/ -profile rnaseq,docker --contrasts ./data/contrasts.csv --matrix ./data/salmon.merged.gene_counts.tsv --differential_min_fold_change 0.5 -c ./rnaseq.config"
   ]
  },
  {
   "cell_type": "markdown",
   "metadata": {},
   "source": [
    "Explain all the parameters you set and why you set them in this way. If you used or created additional files as input, explain what they are used for."
   ]
  },
  {
   "cell_type": "markdown",
   "metadata": {},
   "source": [
    "The input file is a newly created sample sheet found in data/samplesheet.csv. It contains the samples as defined in the gene count matrix and the conditions as defined in the contrast file.\\\n",
    "The contrast file is the one provided in the data folder. An additional contrast was added to include Sham_Sal vs SNI_oxy, but this part can be ignored, since the results were not significant.\\\n",
    "As profiles rnaseq and docker were selected. No idea why rnaseq, but it worked. Docker is the one I used in all other pipelines as well.\\\n",
    "The matrix is the one provided in the data folder.\\\n",
    "The config file was created yesterday to account for my hardware specs.\n",
    "\n"
   ]
  },
  {
   "cell_type": "markdown",
   "metadata": {},
   "source": [
    "What were the outputs of the pipeline?"
   ]
  },
  {
   "cell_type": "markdown",
   "metadata": {},
   "source": [
    "A report summarizing the results, containing a box plot for the abundance value distributions, density plots, principal components plots and clustering dendrograms."
   ]
  },
  {
   "cell_type": "markdown",
   "metadata": {},
   "source": [
    "Would you exclude any samples? If yes, which and why?"
   ]
  },
  {
   "cell_type": "markdown",
   "metadata": {},
   "source": [
    "SNI_Sal 2 and SNI_Sal_4, because they were outliners in the principal component analysis and general outliners in all plots. Since we don't have the fastq files, we cannot verify any structural problems with the sequencing data."
   ]
  },
  {
   "cell_type": "markdown",
   "metadata": {},
   "source": [
    "How many genes were differentially expressed in each contrast? Does this confirm what the paper mentions?"
   ]
  },
  {
   "cell_type": "markdown",
   "metadata": {},
   "source": [
    "The report contains one up and 17 down regulated genes in the SNI_oxy versus SNI_Sal contrast with adjusted p-values (BH-method). In the Sham_oxy versus Sham_Sal contrast, there were  seven up and none down regulated genes.\\\n",
    "Note that in this pipeline, a log2 Fold Change threshold of 1 was used, while in the paper the threshold was 0.5. This results in way less differentially expressed genes found in this pipeline compared to in the paper. \n",
    "\n",
    "Adjusting for a fold change of 0.5 increases the amount of differentially expressed genes in contrast SNI_oxy versus SNI_Sal to 2 (up) and 18 (down) and in the contrast Sham_oxy versus Sham_Sal to 61 (up) 54 (down). Without adjusting the p-values with the BH-method, the differentially expressed gene amount is in the range of 25k per category."
   ]
  },
  {
   "cell_type": "markdown",
   "metadata": {},
   "source": [
    "The paper mentions differentially expressed genes in three brain regions : the NAc, mPFC and VTA. Briefly explain what these 3 regions are."
   ]
  },
  {
   "cell_type": "markdown",
   "metadata": {},
   "source": [
    "The NAc is the nucleus accumbens. It is a region of the basal forebrain rostral to the preoptic area of the hypothalamus and responsible for motivation, rewards and addiction, but has also a lesser role in fear and impulse control.\\\n",
    "The mPFC is the medial prefrontal cortex. It is the front part of the frontal lobe of the brain. It controls the sense of self and is associated with social aspects of the self. This includes parts of the memory, emotional regulation and social cognition, but also motivation and reward-guided learning.\\\n",
    "The VTA is the ventral tegmental area. It is located in the ventral midbrain. It is the origin of the dopaminergic cell bodies  of multiple dopamine pathways and thus important for the drug and natural reward circuitry of the brain, most noteably reward cognition."
   ]
  },
  {
   "cell_type": "markdown",
   "metadata": {},
   "source": [
    "Is there anyway from the paper and the material and methods for us to know which genes are included in these regions?"
   ]
  },
  {
   "cell_type": "markdown",
   "metadata": {},
   "source": [
    "While there is no easy table or file containing the genes included in each region, table 1 contains the genes sorted by pathways, but is also roughly grouped by brain region."
   ]
  },
  {
   "cell_type": "markdown",
   "metadata": {},
   "source": [
    "Once you have your list of differentially expressed genes, do you think just communicating those to the biologists would be sufficient? What does the publication state?"
   ]
  },
  {
   "cell_type": "markdown",
   "metadata": {},
   "source": [
    "Please reproduce the Venn Diagram from Figure 3, not taking into account the brain regions but just the contrasts mentionned."
   ]
  }
 ],
 "metadata": {
  "kernelspec": {
   "display_name": "comp_w",
   "language": "python",
   "name": "python3"
  },
  "language_info": {
   "codemirror_mode": {
    "name": "ipython",
    "version": 3
   },
   "file_extension": ".py",
   "mimetype": "text/x-python",
   "name": "python",
   "nbconvert_exporter": "python",
   "pygments_lexer": "ipython3",
   "version": "3.13.7"
  }
 },
 "nbformat": 4,
 "nbformat_minor": 2
}
