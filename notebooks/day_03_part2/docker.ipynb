{
 "cells": [
  {
   "cell_type": "markdown",
   "metadata": {},
   "source": [
    "# A short introduction to containerized software\n",
    "\n",
    "After spending time using nf-core pipelines to answer bioinformatic questions, we will focus on the processes that lie behind these pipelines now.\n",
    "\n",
    "Today, we will focus on containerization, namely via Docker. \n",
    "\n"
   ]
  },
  {
   "cell_type": "markdown",
   "metadata": {},
   "source": [
    "1. Check if Docker is installed."
   ]
  },
  {
   "cell_type": "code",
   "execution_count": 2,
   "metadata": {},
   "outputs": [
    {
     "name": "stdout",
     "output_type": "stream",
     "text": [
      "Client:\n",
      " Version:    27.2.0\n",
      " Context:    default\n",
      " Debug Mode: false\n",
      " Plugins:\n",
      "  buildx: Docker Buildx (Docker Inc.)\n",
      "    Version:  v0.16.2-desktop.1\n",
      "    Path:     /usr/local/lib/docker/cli-plugins/docker-buildx\n",
      "  compose: Docker Compose (Docker Inc.)\n",
      "    Version:  v2.29.2-desktop.2\n",
      "    Path:     /usr/local/lib/docker/cli-plugins/docker-compose\n",
      "  debug: Get a shell into any image or container (Docker Inc.)\n",
      "    Version:  0.0.34\n",
      "    Path:     /usr/local/lib/docker/cli-plugins/docker-debug\n",
      "  desktop: Docker Desktop commands (Alpha) (Docker Inc.)\n",
      "    Version:  v0.0.15\n",
      "    Path:     /usr/local/lib/docker/cli-plugins/docker-desktop\n",
      "  dev: Docker Dev Environments (Docker Inc.)\n",
      "    Version:  v0.1.2\n",
      "    Path:     /usr/local/lib/docker/cli-plugins/docker-dev\n",
      "  extension: Manages Docker extensions (Docker Inc.)\n",
      "    Version:  v0.2.25\n",
      "    Path:     /usr/local/lib/docker/cli-plugins/docker-extension\n",
      "  feedback: Provide feedback, right in your terminal! (Docker Inc.)\n",
      "    Version:  v1.0.5\n",
      "    Path:     /usr/local/lib/docker/cli-plugins/docker-feedback\n",
      "  init: Creates Docker-related starter files for your project (Docker Inc.)\n",
      "    Version:  v1.3.0\n",
      "    Path:     /usr/local/lib/docker/cli-plugins/docker-init\n",
      "  sbom: View the packaged-based Software Bill Of Materials (SBOM) for an image (Anchore Inc.)\n",
      "    Version:  0.6.0\n",
      "    Path:     /usr/local/lib/docker/cli-plugins/docker-sbom\n",
      "  scout: Docker Scout (Docker Inc.)\n",
      "    Version:  v1.13.0\n",
      "    Path:     /usr/local/lib/docker/cli-plugins/docker-scout\n",
      "\n",
      "Server:\n",
      " Containers: 5\n",
      "  Running: 1\n",
      "  Paused: 0\n",
      "  Stopped: 4\n",
      " Images: 16\n",
      " Server Version: 27.2.0\n",
      " Storage Driver: overlayfs\n",
      "  driver-type: io.containerd.snapshotter.v1\n",
      " Logging Driver: json-file\n",
      " Cgroup Driver: cgroupfs\n",
      " Cgroup Version: 2\n",
      " Plugins:\n",
      "  Volume: local\n",
      "  Network: bridge host ipvlan macvlan null overlay\n",
      "  Log: awslogs fluentd gcplogs gelf journald json-file local splunk syslog\n",
      " Swarm: inactive\n",
      " Runtimes: runc io.containerd.runc.v2 nvidia\n",
      " Default Runtime: runc\n",
      " Init Binary: docker-init\n",
      " containerd version: 8fc6bcff51318944179630522a095cc9dbf9f353\n",
      " runc version: v1.1.13-0-g58aa920\n",
      " init version: de40ad0\n",
      " Security Options:\n",
      "  seccomp\n",
      "   Profile: unconfined\n",
      "  cgroupns\n",
      " Kernel Version: 6.6.87.2-microsoft-standard-WSL2\n",
      " Operating System: Docker Desktop\n",
      " OSType: linux\n",
      " Architecture: x86_64\n",
      " CPUs: 16\n",
      " Total Memory: 7.356GiB\n",
      " Name: docker-desktop\n",
      " ID: 790ea00c-3471-431d-9b1f-a6d919e836ab\n",
      " Docker Root Dir: /var/lib/docker\n",
      " Debug Mode: false\n",
      " HTTP Proxy: http.docker.internal:3128\n",
      " HTTPS Proxy: http.docker.internal:3128\n",
      " No Proxy: hubproxy.docker.internal\n",
      " Labels:\n",
      "  com.docker.desktop.address=unix:///var/run/docker-cli.sock\n",
      " Experimental: false\n",
      " Insecure Registries:\n",
      "  hubproxy.docker.internal:5555\n",
      "  127.0.0.0/8\n",
      " Live Restore Enabled: false\n",
      "\n",
      "WARNING: daemon is not using the default seccomp profile\n"
     ]
    }
   ],
   "source": [
    "!docker info"
   ]
  },
  {
   "cell_type": "markdown",
   "metadata": {},
   "source": [
    "### What is a container?\n",
    "\n",
    "A Docker container is a standardized, encapsulated environment that runs applications. It contains not only the code but all dependencies."
   ]
  },
  {
   "cell_type": "markdown",
   "metadata": {},
   "source": [
    "### Why do we use containers?\n",
    " Docker allows you to standardize the development and release cycle using a consisting and isolated environment. This allows for running even multiple containers parallel at the same time, since they do not influence one another and have all required parts isolated.\n",
    " It also uses less memory and is since most platforms support docker, it is eary to switch environments and ship&run them."
   ]
  },
  {
   "cell_type": "markdown",
   "metadata": {},
   "source": [
    "### What is a docker image?\n",
    "A container image is a standardized package that includes all of the files, binaries, libraries, and configurations to run a container. They can be used to run one or even multiple instances of the application at once as containers."
   ]
  },
  {
   "cell_type": "markdown",
   "metadata": {},
   "source": [
    "### Let's run our first docker image:"
   ]
  },
  {
   "cell_type": "markdown",
   "metadata": {},
   "source": [
    "### Login to docker"
   ]
  },
  {
   "cell_type": "code",
   "execution_count": null,
   "metadata": {},
   "outputs": [],
   "source": [
    "# This you need to do on the command line directly"
   ]
  },
  {
   "cell_type": "markdown",
   "metadata": {},
   "source": [
    "### Run your first docker container"
   ]
  },
  {
   "cell_type": "code",
   "execution_count": 3,
   "metadata": {},
   "outputs": [
    {
     "name": "stdout",
     "output_type": "stream",
     "text": [
      "Unable to find image 'hello-world:latest' locally\n",
      "latest: Pulling from library/hello-world\n",
      "\n",
      "\u001b[1Bc7bbc9d7: Download complete [1A\u001b[2KDigest: sha256:54e66cc1dd1fcb1c3c58bd8017914dbed8701e2d8c74d9262e26bd9cc1642d31\n",
      "Status: Downloaded newer image for hello-world:latest\n",
      "\n",
      "Hello from Docker!\n",
      "This message shows that your installation appears to be working correctly.\n",
      "\n",
      "To generate this message, Docker took the following steps:\n",
      " 1. The Docker client contacted the Docker daemon.\n",
      " 2. The Docker daemon pulled the \"hello-world\" image from the Docker Hub.\n",
      "    (amd64)\n",
      " 3. The Docker daemon created a new container from that image which runs the\n",
      "    executable that produces the output you are currently reading.\n",
      " 4. The Docker daemon streamed that output to the Docker client, which sent it\n",
      "    to your terminal.\n",
      "\n",
      "To try something more ambitious, you can run an Ubuntu container with:\n",
      " $ docker run -it ubuntu bash\n",
      "\n",
      "Share images, automate workflows, and more with a free Docker ID:\n",
      " https://hub.docker.com/\n",
      "\n",
      "For more examples and ideas, visit:\n",
      " https://docs.docker.com/get-started/\n",
      "\n"
     ]
    }
   ],
   "source": [
    "!docker run hello-world"
   ]
  },
  {
   "cell_type": "markdown",
   "metadata": {},
   "source": [
    "### Find the container ID"
   ]
  },
  {
   "cell_type": "code",
   "execution_count": null,
   "metadata": {},
   "outputs": [
    {
     "name": "stdout",
     "output_type": "stream",
     "text": [
      "CONTAINER ID   IMAGE                                                                         COMMAND                  CREATED         STATUS                      PORTS                  NAMES\n",
      "ef26577064b3   hello-world                                                                   \"/hello\"                 8 minutes ago   Exited (0) 8 minutes ago                           reverent_ganguly\n",
      "59a6bf7c51bd   quay.io/biocontainers/bioconductor-deseq2:1.34.0--r41hc247a5b_3               \"/usr/local/env-exec…\"   2 hours ago     Exited (137) 2 hours ago                           nxf-AKsxTE5POqmtNuAp8XIPSAZD\n",
      "52fb8fca6e44   community.wave.seqera.io/library/cutadapt_trim-galore_pigz:a98edd405b34582d   \"/usr/local/bin/_ent…\"   22 hours ago    Exited (0) 17 hours ago                            nxf-tl55d5l277A8Fmzqp83UtYlr\n",
      "f714d42ce1d9   quay.io/biocontainers/fastqc:0.12.1--hdfd78af_0                               \"/usr/local/env-exec…\"   23 hours ago    Exited (255) 23 hours ago                          nxf-E1qatC4Kbh0P29dKJvwhPJT4\n",
      "e97e1fa46247   docker/welcome-to-docker:latest                                               \"/docker-entrypoint.…\"   11 months ago   Exited (255) 2 days ago     0.0.0.0:8089->80/tcp   priceless_hofstadter\n",
      "4a665b7027f4   docker/welcome-to-docker:latest                                               \"/docker-entrypoint.…\"   11 months ago   Exited (255) 2 days ago     0.0.0.0:8088->80/tcp   welcome-to-docker\n"
     ]
    }
   ],
   "source": [
    "!docker container ls -a\n",
    "# container ID: ef26577064b3"
   ]
  },
  {
   "cell_type": "markdown",
   "metadata": {},
   "source": [
    "### Delete the container again, give prove its deleted"
   ]
  },
  {
   "cell_type": "code",
   "execution_count": null,
   "metadata": {},
   "outputs": [
    {
     "name": "stdout",
     "output_type": "stream",
     "text": [
      "Error response from daemon: No such container: ef26577064b3\n",
      "CONTAINER ID   IMAGE                                                                         COMMAND                  CREATED        STATUS                      PORTS     NAMES\n",
      "59a6bf7c51bd   quay.io/biocontainers/bioconductor-deseq2:1.34.0--r41hc247a5b_3               \"/usr/local/env-exec…\"   2 hours ago    Exited (137) 2 hours ago              nxf-AKsxTE5POqmtNuAp8XIPSAZD\n",
      "52fb8fca6e44   community.wave.seqera.io/library/cutadapt_trim-galore_pigz:a98edd405b34582d   \"/usr/local/bin/_ent…\"   22 hours ago   Exited (0) 17 hours ago               nxf-tl55d5l277A8Fmzqp83UtYlr\n",
      "f714d42ce1d9   quay.io/biocontainers/fastqc:0.12.1--hdfd78af_0                               \"/usr/local/env-exec…\"   23 hours ago   Exited (255) 23 hours ago             nxf-E1qatC4Kbh0P29dKJvwhPJT4\n"
     ]
    }
   ],
   "source": [
    "!docker container rm ef26577064b3\n",
    "!docker container ls -a\n",
    "# container ID not visibile on the list anymore"
   ]
  },
  {
   "cell_type": "markdown",
   "metadata": {},
   "source": [
    "### FASTQC is a very useful tool as you've learned last week. Let's try and run it from command line\n",
    "\n",
    "Link to the software: https://www.bioinformatics.babraham.ac.uk/projects/fastqc/"
   ]
  },
  {
   "cell_type": "markdown",
   "metadata": {},
   "source": [
    "Please describe the steps you took to download and run the software for the example fastq file from last week below:"
   ]
  },
  {
   "cell_type": "code",
   "execution_count": 46,
   "metadata": {},
   "outputs": [
    {
     "name": "stdout",
     "output_type": "stream",
     "text": [
      "shell-init: error retrieving current directory: getcwd: cannot access parent directories: No such file or directory\n",
      "/bin/bash: line 1: fastqc: command not found\n"
     ]
    }
   ],
   "source": [
    "#Install it and run it in bash with the fastqc file from tuesday:\n",
    "!fastqc SRX19144486_SRR23195516_1.fastq.gz -o ./fastqc/"
   ]
  },
  {
   "cell_type": "markdown",
   "metadata": {},
   "source": [
    "### Very well, now let's try to make use of its docker container\n",
    "\n",
    "1. create a container holding fastqc using seqera containers (https://seqera.io/containers/)\n",
    "2. use the container to generate a fastqc html of the example fastq file"
   ]
  },
  {
   "cell_type": "code",
   "execution_count": 19,
   "metadata": {},
   "outputs": [
    {
     "name": "stdout",
     "output_type": "stream",
     "text": [
      "0.12.1--af7a5314d5015c29: Pulling from library/fastqc\n",
      "\n",
      "\u001b[1Bacc3b8ff: Pulling fs layer \n",
      "\u001b[1Bc6865366: Download complete MB/368.2MB\u001b[2A\u001b[2K\u001b[1A\u001b[2K\u001b[1A\u001b[2K\u001b[1A\u001b[2K\u001b[1A\u001b[2K\u001b[1A\u001b[2K\u001b[1A\u001b[2K\u001b[1A\u001b[2K\u001b[1A\u001b[2K\u001b[1A\u001b[2K\u001b[1A\u001b[2K\u001b[1A\u001b[2K\u001b[1A\u001b[2K\u001b[1A\u001b[2K\u001b[1A\u001b[2K\u001b[1A\u001b[2K\u001b[1A\u001b[2K\u001b[1A\u001b[2K\u001b[1A\u001b[2K\u001b[1A\u001b[2K\u001b[1A\u001b[2K\u001b[1A\u001b[2K\u001b[1A\u001b[2K\u001b[1A\u001b[2K\u001b[1A\u001b[2K\u001b[1A\u001b[2K\u001b[1A\u001b[2K\u001b[1A\u001b[2K\u001b[1A\u001b[2K\u001b[1A\u001b[2K\u001b[1A\u001b[2K\u001b[1A\u001b[2K\u001b[1A\u001b[2K\u001b[1A\u001b[2K\u001b[1A\u001b[2K\u001b[1A\u001b[2K\u001b[1A\u001b[2K\u001b[1A\u001b[2K\u001b[1A\u001b[2K\u001b[1A\u001b[2K\u001b[1A\u001b[2K\u001b[1A\u001b[2K\u001b[1A\u001b[2K\u001b[1A\u001b[2K\u001b[1A\u001b[2K\u001b[1A\u001b[2K\u001b[1A\u001b[2K\u001b[1A\u001b[2K\u001b[1A\u001b[2K\u001b[1A\u001b[2K\u001b[1A\u001b[2K\u001b[1A\u001b[2K\u001b[1A\u001b[2K\u001b[1A\u001b[2K\u001b[1A\u001b[2K\u001b[1A\u001b[2K\u001b[1A\u001b[2K\u001b[1A\u001b[2K\u001b[1A\u001b[2K\u001b[1A\u001b[2K\u001b[1A\u001b[2K\u001b[1A\u001b[2K\u001b[1A\u001b[2K\u001b[1A\u001b[2K\u001b[1A\u001b[2K\u001b[1A\u001b[2K\u001b[1A\u001b[2K\u001b[1A\u001b[2K\u001b[1A\u001b[2K\u001b[1A\u001b[2K\u001b[1A\u001b[2K\u001b[1A\u001b[2K\u001b[1A\u001b[2K\u001b[1A\u001b[2K\u001b[1A\u001b[2K\u001b[1A\u001b[2K\u001b[1A\u001b[2K\u001b[1A\u001b[2K\u001b[1A\u001b[2K\u001b[1A\u001b[2K\u001b[1A\u001b[2K\u001b[1A\u001b[2K\u001b[1A\u001b[2K\u001b[1A\u001b[2K\u001b[1A\u001b[2K\u001b[1A\u001b[2K\u001b[1A\u001b[2K\u001b[1A\u001b[2K\u001b[1A\u001b[2K\u001b[1A\u001b[2K\u001b[1A\u001b[2K\u001b[1A\u001b[2K\u001b[1A\u001b[2K\u001b[1A\u001b[2K\u001b[1A\u001b[2K\u001b[1A\u001b[2K\u001b[1A\u001b[2K\u001b[1A\u001b[2K\u001b[1A\u001b[2K\u001b[1A\u001b[2K\u001b[1A\u001b[2K\u001b[1A\u001b[2K\u001b[1A\u001b[2K\u001b[1A\u001b[2K\u001b[1A\u001b[2K\u001b[1A\u001b[2K\u001b[1A\u001b[2K\u001b[1A\u001b[2K\u001b[1A\u001b[2K\u001b[1A\u001b[2K\u001b[1A\u001b[2K\u001b[1A\u001b[2K\u001b[1A\u001b[2K\u001b[1A\u001b[2K\u001b[1A\u001b[2K\u001b[1A\u001b[2K\u001b[1A\u001b[2K\u001b[1A\u001b[2K\u001b[1A\u001b[2K\u001b[1A\u001b[2K\u001b[1A\u001b[2K\u001b[1A\u001b[2K\u001b[1A\u001b[2K\u001b[1A\u001b[2K\u001b[1A\u001b[2K\u001b[1A\u001b[2K\u001b[1A\u001b[2K\u001b[1A\u001b[2K\u001b[1A\u001b[2K\u001b[1A\u001b[2K\u001b[1A\u001b[2K\u001b[1A\u001b[2K\u001b[1A\u001b[2K\u001b[1A\u001b[2K\u001b[1A\u001b[2K\u001b[1A\u001b[2K\u001b[1A\u001b[2K\u001b[1A\u001b[2K\u001b[1A\u001b[2K\u001b[1A\u001b[2K\u001b[1A\u001b[2K\u001b[1A\u001b[2K\u001b[1A\u001b[2K\u001b[1A\u001b[2K\u001b[1A\u001b[2K\u001b[1A\u001b[2K\u001b[1A\u001b[2K\u001b[1A\u001b[2K\u001b[1A\u001b[2K\u001b[1A\u001b[2K\u001b[1A\u001b[2K\u001b[1A\u001b[2K\u001b[1A\u001b[2K\u001b[1A\u001b[2K\u001b[1A\u001b[2K\u001b[1A\u001b[2K\u001b[1A\u001b[2K\u001b[1A\u001b[2K\u001b[1A\u001b[2K\u001b[1A\u001b[2K\u001b[1A\u001b[2K\u001b[1A\u001b[2K\u001b[1A\u001b[2K\u001b[1A\u001b[2K\u001b[1A\u001b[2K\u001b[1A\u001b[2K\u001b[1A\u001b[2K\u001b[1A\u001b[2K\u001b[1A\u001b[2K\u001b[1A\u001b[2K\u001b[1A\u001b[2K\u001b[1A\u001b[2K\u001b[1A\u001b[2K\u001b[1A\u001b[2K\u001b[1A\u001b[2K\u001b[1A\u001b[2K\u001b[1A\u001b[2K\u001b[1A\u001b[2K\u001b[1A\u001b[2K\u001b[1A\u001b[2K\u001b[1A\u001b[2K\u001b[1A\u001b[2K\u001b[1A\u001b[2K\u001b[1A\u001b[2K\u001b[1A\u001b[2K\u001b[1A\u001b[2K\u001b[1A\u001b[2K\u001b[1A\u001b[2K\u001b[1A\u001b[2K\u001b[1A\u001b[2K\u001b[1A\u001b[2K\u001b[1A\u001b[2K\u001b[1A\u001b[2K\u001b[1A\u001b[2K\u001b[1A\u001b[2KDigest: sha256:b7f6caf359264cf86da901b0aa5f66735a6506fcfbf103c66db6987253ad44c1\n",
      "Status: Downloaded newer image for community.wave.seqera.io/library/fastqc:0.12.1--af7a5314d5015c29\n",
      "community.wave.seqera.io/library/fastqc:0.12.1--af7a5314d5015c29\n"
     ]
    }
   ],
   "source": [
    "# pull the container\n",
    "!docker image pull community.wave.seqera.io/library/fastqc:0.12.1--af7a5314d5015c29"
   ]
  },
  {
   "cell_type": "code",
   "execution_count": 47,
   "metadata": {},
   "outputs": [
    {
     "name": "stdout",
     "output_type": "stream",
     "text": [
      "shell-init: error retrieving current directory: getcwd: cannot access parent directories: No such file or directory\n",
      "application/gzip\n",
      "Started analysis of SRX19144486_SRR23195516_1.fastq.gz\n",
      "Approx 5% complete for SRX19144486_SRR23195516_1.fastq.gz\n",
      "Approx 10% complete for SRX19144486_SRR23195516_1.fastq.gz\n",
      "Approx 15% complete for SRX19144486_SRR23195516_1.fastq.gz\n",
      "Approx 20% complete for SRX19144486_SRR23195516_1.fastq.gz\n",
      "Approx 25% complete for SRX19144486_SRR23195516_1.fastq.gz\n",
      "Approx 30% complete for SRX19144486_SRR23195516_1.fastq.gz\n",
      "Approx 35% complete for SRX19144486_SRR23195516_1.fastq.gz\n",
      "Approx 40% complete for SRX19144486_SRR23195516_1.fastq.gz\n",
      "Approx 45% complete for SRX19144486_SRR23195516_1.fastq.gz\n",
      "Approx 50% complete for SRX19144486_SRR23195516_1.fastq.gz\n",
      "Approx 55% complete for SRX19144486_SRR23195516_1.fastq.gz\n",
      "Approx 60% complete for SRX19144486_SRR23195516_1.fastq.gz\n",
      "Approx 65% complete for SRX19144486_SRR23195516_1.fastq.gz\n",
      "Approx 70% complete for SRX19144486_SRR23195516_1.fastq.gz\n",
      "Approx 75% complete for SRX19144486_SRR23195516_1.fastq.gz\n",
      "Approx 80% complete for SRX19144486_SRR23195516_1.fastq.gz\n",
      "Approx 85% complete for SRX19144486_SRR23195516_1.fastq.gz\n",
      "Approx 90% complete for SRX19144486_SRR23195516_1.fastq.gz\n",
      "Approx 95% complete for SRX19144486_SRR23195516_1.fastq.gz\n",
      "Analysis complete for SRX19144486_SRR23195516_1.fastq.gz\n"
     ]
    }
   ],
   "source": [
    "# run the container and save the results to a new \"fastqc_results\" directory\n",
    "!docker run -v /mnt/c/Users/katja/Documents/GitHub/computational-workflows-2025:/mnt/c/Users/katja/Documents/GitHub/computational-workflows-2025 -w /mnt/c/Users/katja/Documents/GitHub/computational-workflows-2025 community.wave.seqera.io/library/fastqc:0.12.1--af7a5314d5015c29 fastqc notebooks/day_02/output_ngs/fastq/SRX19144486_SRR23195516_1.fastq.gz -o notebooks/day_03_part2/fastqc\n"
   ]
  },
  {
   "cell_type": "markdown",
   "metadata": {},
   "source": [
    "### Now that you know how to use a docker container, which approach was easier and which approach will be easier in the future?\n",
    "\n",
    "Bash scripts in my opinion were still easier to use. But they require more knowledge about the individual tools, which in result would require more time. If time is not available, pipelines and containers should be an easier solution."
   ]
  },
  {
   "cell_type": "markdown",
   "metadata": {},
   "source": [
    "### What would you say, which approach is more reproducible?\n",
    "Docker contains feel more isolated, but flexible than pipelines. "
   ]
  },
  {
   "cell_type": "markdown",
   "metadata": {},
   "source": [
    "### Compare the file to last weeks fastqc results, are they identical?\n",
    "### Is the fastqc version identical?"
   ]
  },
  {
   "cell_type": "markdown",
   "metadata": {},
   "source": [
    "## Dockerfiles\n",
    "\n",
    "We now used Docker containers and images directly to boost our research. \n",
    "\n",
    "Let's create our own toy Dockerfile including the \"cowsay\" tool (https://en.wikipedia.org/wiki/Cowsay)\n",
    "\n",
    "Hints:\n",
    "1. Docker is Linux, so you need to know the apt-get command to install \"cowsay\""
   ]
  },
  {
   "cell_type": "code",
   "execution_count": null,
   "metadata": {},
   "outputs": [],
   "source": [
    "# open the file \"my_dockerfile\" in a text editor"
   ]
  },
  {
   "cell_type": "markdown",
   "metadata": {},
   "source": [
    "### Explain the RUN and ENV lines you added to the file"
   ]
  },
  {
   "cell_type": "markdown",
   "metadata": {},
   "source": [
    "RUN tells the instructor to run specific command, like installing packages.\\\n",
    "ENV sets an environment variable that will be used by a running container."
   ]
  },
  {
   "cell_type": "code",
   "execution_count": 48,
   "metadata": {},
   "outputs": [
    {
     "name": "stdout",
     "output_type": "stream",
     "text": [
      "shell-init: error retrieving current directory: getcwd: cannot access parent directories: No such file or directory\n",
      "\u001b[1A\u001b[1B\u001b[0G\u001b[?25l[+] Building 0.0s (0/0)  docker:default\n",
      "\u001b[?25h\u001b[1A\u001b[0G\u001b[?25l[+] Building 0.0s (0/0)                                          docker:default\n",
      "\u001b[?25hpanic: runtime error: index out of range [0] with length 0\n",
      "\n",
      "goroutine 1 [running]:\n",
      "github.com/docker/buildx/util/gitutil.gitPath({0x27f1f38, 0x1})\n",
      "\tgithub.com/docker/buildx/util/gitutil/path.go:35 +0x133\n",
      "github.com/docker/buildx/util/gitutil.New({0xc000790d18, 0x2, 0x0?})\n",
      "\tgithub.com/docker/buildx/util/gitutil/gitutil.go:51 +0x85\n",
      "github.com/docker/buildx/build.getGitAttributes({0x2823828, 0xc00069a370}, {0x7fff89ad59ac, 0x1}, {0x0, 0x0})\n",
      "\tgithub.com/docker/buildx/build/git.go:54 +0x3bb\n",
      "github.com/docker/buildx/build.BuildWithResultHandler({0x2823828, 0xc00069a370}, {0xc00070e7e0, 0x1, 0x1}, 0xc000792a08, 0xc000709950, {0xc000500480, 0x1c}, {0x28239b0, ...}, ...)\n",
      "\tgithub.com/docker/buildx/build/build.go:223 +0x72e\n",
      "github.com/docker/buildx/build.Build(...)\n",
      "\tgithub.com/docker/buildx/build/build.go:153\n",
      "github.com/docker/buildx/controller/build.buildTargets({0x28237f0, 0xc000694840}, {0x283d2a0, 0xc0002dc000}, {0xc00070e7e0, 0x1, 0x1}, 0xc000550a08, {0x28239b0, 0xc000534400}, ...)\n",
      "\tgithub.com/docker/buildx/controller/build/build.go:237 +0x292\n",
      "github.com/docker/buildx/controller/build.RunBuild({_, _}, {_, _}, {{0x7fff89ad59ac, 0x1}, {0x0, 0x0}, 0x0, 0x0, ...}, ...)\n",
      "\tgithub.com/docker/buildx/controller/build/build.go:207 +0x171a\n",
      "github.com/docker/buildx/commands.runBasicBuild({0x28237f0, 0xc000694840}, {0x283d2a0, 0xc0002dc000}, 0xc00011b208, 0xc000534400)\n",
      "\tgithub.com/docker/buildx/commands/build.go:398 +0xda\n",
      "github.com/docker/buildx/commands.runBuild({_, _}, {_, _}, {{0x3b6b220, 0x0, 0x0}, {0x3b6b220, 0x0, 0x0}, ...})\n",
      "\tgithub.com/docker/buildx/commands/build.go:345 +0x885\n",
      "github.com/docker/buildx/commands.buildCmd.func1(0xc00041ec08, {0xc00006aa60?, 0x0?, 0xb1cbc3a300000000?})\n",
      "\tgithub.com/docker/buildx/commands/build.go:562 +0x2c8\n",
      "github.com/docker/cli/cli-plugins/plugin.RunPlugin.func1.1.2(0xc00041ec08, {0xc00006aa60, 0x1, 0x1})\n",
      "\tgithub.com/docker/cli@v27.0.3+incompatible/cli-plugins/plugin/plugin.go:64 +0x6c\n",
      "github.com/spf13/cobra.(*Command).execute(0xc00041ec08, {0xc0005ba980, 0x1, 0x1})\n",
      "\tgithub.com/spf13/cobra@v1.8.1/command.go:985 +0xaca\n",
      "github.com/spf13/cobra.(*Command).ExecuteC(0xc00047af08)\n",
      "\tgithub.com/spf13/cobra@v1.8.1/command.go:1117 +0x3ff\n",
      "github.com/spf13/cobra.(*Command).Execute(...)\n",
      "\tgithub.com/spf13/cobra@v1.8.1/command.go:1041\n",
      "github.com/docker/cli/cli-plugins/plugin.RunPlugin(0xc0002dc000, 0xc00041e908, {{0x245ac27, 0x5}, {0x2465253, 0xb}, {0x27fc7a0, 0x11}, {0x0, 0x0}, ...})\n",
      "\tgithub.com/docker/cli@v27.0.3+incompatible/cli-plugins/plugin/plugin.go:79 +0x145\n",
      "main.runPlugin(0xc0002dc000)\n",
      "\tgithub.com/docker/buildx/cmd/buildx/main.go:67 +0xe6\n",
      "main.main()\n",
      "\tgithub.com/docker/buildx/cmd/buildx/main.go:84 +0xde\n"
     ]
    }
   ],
   "source": [
    "# build the docker image\n",
    "!docker build ."
   ]
  },
  {
   "cell_type": "code",
   "execution_count": null,
   "metadata": {},
   "outputs": [],
   "source": [
    "# make sure that the image has been built\n"
   ]
  },
  {
   "cell_type": "code",
   "execution_count": null,
   "metadata": {},
   "outputs": [],
   "source": [
    "# run the docker file \n"
   ]
  },
  {
   "cell_type": "markdown",
   "metadata": {},
   "source": [
    "## Let's do some bioinformatics with the docker file and create a new docker file that holds the salmon tool used in rnaseq\n",
    "\n",
    "To do so, use \"curl\" in your new dockerfile to get salmon from https://github.com/COMBINE-lab/salmon/releases/download/v1.5.2/salmon-1.5.2_linux_x86_64.tar.gz"
   ]
  },
  {
   "cell_type": "code",
   "execution_count": null,
   "metadata": {
    "vscode": {
     "languageId": "shellscript"
    }
   },
   "outputs": [],
   "source": [
    "# use the file \"salmon_docker\" in this directory to build a new docker image"
   ]
  },
  {
   "cell_type": "code",
   "execution_count": null,
   "metadata": {
    "vscode": {
     "languageId": "shellscript"
    }
   },
   "outputs": [],
   "source": [
    "# build the image\n"
   ]
  },
  {
   "cell_type": "code",
   "execution_count": null,
   "metadata": {
    "vscode": {
     "languageId": "shellscript"
    }
   },
   "outputs": [],
   "source": [
    "# run the docker image to give out the version of salmon\n"
   ]
  },
  {
   "cell_type": "markdown",
   "metadata": {},
   "source": [
    "## Do you think bioinformaticians have to create a docker image every time they want to run a tool?\n",
    "\n",
    "Find the salmon docker image online and run it on your computer.\n",
    "\n",
    "What is https://biocontainers.pro/ ?"
   ]
  },
  {
   "cell_type": "markdown",
   "metadata": {},
   "source": [
    "## Are there other ways to create Docker (or Apptainer) images?\n",
    "\n",
    "What is https://seqera.io/containers/ ?"
   ]
  }
 ],
 "metadata": {
  "kernelspec": {
   "display_name": "comp_w",
   "language": "python",
   "name": "python3"
  },
  "language_info": {
   "codemirror_mode": {
    "name": "ipython",
    "version": 3
   },
   "file_extension": ".py",
   "mimetype": "text/x-python",
   "name": "python",
   "nbconvert_exporter": "python",
   "pygments_lexer": "ipython3",
   "version": "3.13.7"
  }
 },
 "nbformat": 4,
 "nbformat_minor": 2
}
