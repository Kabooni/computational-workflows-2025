{
 "cells": [
  {
   "cell_type": "markdown",
   "metadata": {},
   "source": [
    "# Day 2\n",
    "\n",
    "Today, we will start using nf-core pipelines to find differentially abundant genes in our dataset. \n",
    "We are using data from the following paper: https://www.nature.com/articles/s41593-023-01350-3#Sec10"
   ]
  },
  {
   "cell_type": "markdown",
   "metadata": {
    "vscode": {
     "languageId": "plaintext"
    }
   },
   "source": [
    "1. Please take some time to read through the paper and understand their approach, hypotheses and goals."
   ]
  },
  {
   "cell_type": "markdown",
   "metadata": {
    "vscode": {
     "languageId": "plaintext"
    }
   },
   "source": [
    "What was the objective of the study?\n",
    "\n",
    "The goal is to understand the transcriptomic effects of chronic opioid exposure and physical dependance under chronic pain states in the brain reward circuitry (using high doses of oxycodone over prolonged time)."
   ]
  },
  {
   "cell_type": "markdown",
   "metadata": {
    "vscode": {
     "languageId": "plaintext"
    }
   },
   "source": [
    "What do the conditions mean?"
   ]
  },
  {
   "cell_type": "markdown",
   "metadata": {},
   "source": [
    "oxy: oxycodone (treatment drug)\n",
    "\n",
    "\n",
    "sal: saline (placebo)"
   ]
  },
  {
   "cell_type": "markdown",
   "metadata": {},
   "source": [
    "What do the genotypes mean?"
   ]
  },
  {
   "cell_type": "markdown",
   "metadata": {},
   "source": [
    "SNI: spared nerve injury, the group with chronic nerve pain\n",
    "\n",
    "\n",
    "Sham: control group without spared nerve injury"
   ]
  },
  {
   "cell_type": "markdown",
   "metadata": {},
   "source": [
    "Imagine you are the bioinformatician in the group who conducted this study. They hand you the raw files and ask you to analyze them.\n",
    "\n",
    "What would you do?\n",
    "\n",
    "Essentially, compare the genetic profiles of the different groups to identify the differences made because of the nerve injury or opioid exposure.\n",
    "\n",
    "Which groups would you compare to each other?\n",
    "1. SNI-Oxy vs SHAM-Oxy to assess the difference the nerve injury made.\n",
    "2. SHAM-Sal vs SNI-Oxy because they would have the most differences\n",
    "3. SNI-Sal vs SNI-Oxy to assess the difference the oxycodone made in addition to the nerve injury\n",
    "4. SHAM-Sal vs SHAM-Oxy to asses the differences the oxycodone made in healty (no nerve pain) mice\n",
    "\n",
    "Please also mention which outcome you would expect to see from each comparison.\n",
    "1. SNI-Oxy mice should display less pain-relieving effects of the oxycodone, while also having stronger reaction to the withdrawl.\n",
    "2. SNI-Oxy mice should display more pain and sensitivity than SHAM-Sal mice, also a different range of genetic expression in the brain.\n",
    "3. SNI-Oxy mice should have reduced nerve pain in comparison to the SNI-Sal mice, and of course strong withdrawl effects.\n",
    "4. SHAM-Oxy mice should be less social and active than SHAM-Sal mice, but recover more quickly from the oxycodone withdrawl than their SNI counterpart."
   ]
  },
  {
   "cell_type": "markdown",
   "metadata": {},
   "source": [
    "Your group gave you a very suboptimal excel sheet (conditions_runs_oxy_project.xlsx) to get the information you need for each run they uploaded to the SRA.<br>\n",
    "So, instead of directly diving into downloading the data and starting the analysis, you first need to sort the lazy table.<br>\n",
    "Use Python and Pandas to get the table into a more sensible order.<br>\n",
    "Then, perform some overview analysis and plot the results\n",
    "1. How many samples do you have per condition?\n",
    "2. How many samples do you have per genotype?\n",
    "3. How often do you have each condition per genotype?"
   ]
  },
  {
   "cell_type": "code",
   "execution_count": 2,
   "metadata": {},
   "outputs": [
    {
     "name": "stdout",
     "output_type": "stream",
     "text": [
      "Samples with Sal condition:  8\n",
      "Samples with Oxy condition:  8\n",
      "Samples with SNI genotype:  8\n",
      "Samples with Sham genotype:  8\n",
      "Samples with SNI-Sal: 4\n",
      "Samples with SNI-Oxy: 4\n",
      "Samples with Sham-Sal: 4\n",
      "Samples with Sham-Oxy: 4\n"
     ]
    }
   ],
   "source": [
    "import pandas as pd\n",
    "\n",
    "df = pd.read_excel(\"conditions_runs_oxy_project.xlsx\")\n",
    "\n",
    "print(\"Samples with Sal condition: \", df[\"condition: Sal\"].value_counts().iloc[0])\n",
    "print(\"Samples with Oxy condition: \", df[\"Condition: Oxy\"].value_counts().iloc[0])\n",
    "print(\"Samples with SNI genotype: \", df[\"Genotype: SNI\"].value_counts().iloc[0])\n",
    "print(\"Samples with Sham genotype: \", df[\"Genotype: Sham\"].value_counts().iloc[0])\n",
    "\n",
    "print(\"Samples with SNI-Sal:\", df[df[\"Genotype: SNI\"].notnull() & df[\"condition: Sal\"].notnull()].shape[0])\n",
    "print(\"Samples with SNI-Oxy:\", df[df[\"Genotype: SNI\"].notnull() & df[\"Condition: Oxy\"].notnull()].shape[0])\n",
    "print(\"Samples with Sham-Sal:\", df[df[\"Genotype: Sham\"].notnull() & df[\"condition: Sal\"].notnull()].shape[0])\n",
    "print(\"Samples with Sham-Oxy:\", df[df[\"Genotype: Sham\"].notnull() & df[\"Condition: Oxy\"].notnull()].shape[0])\n",
    "\n",
    "#print(df)\n"
   ]
  },
  {
   "cell_type": "markdown",
   "metadata": {},
   "source": [
    "They were so kind to also provide you with the information of the number of bases per run, so that you can know how much space the data will take on your Cluster.<br>\n",
    "Add a new column to your fancy table with this information (base_counts.csv) and sort your dataframe according to this information and the condition.\n",
    "\n",
    "Then select the 2 smallest runs from your dataset and download them from SRA (maybe an nf-core pipeline can help here?...)"
   ]
  },
  {
   "cell_type": "code",
   "execution_count": 6,
   "metadata": {},
   "outputs": [
    {
     "name": "stdout",
     "output_type": "stream",
     "text": [
      "11    SRR23195516\n",
      "6     SRR23195511\n",
      "Name: Run, dtype: object\n"
     ]
    }
   ],
   "source": [
    "df[\"Bases\"] = 0\n",
    "df_2 = pd.read_csv(\"base_counts.csv\")\n",
    "for index, row in df.iterrows():\n",
    "    for index_2, row_2 in df_2.iterrows():\n",
    "        if row[\"Run\"] == row_2[\"Run\"]:\n",
    "            df.at[index, \"Bases\"] = row_2[\"Bases\"]\n",
    "\n",
    "df.sort_values(by=\"Bases\", inplace=True)\n",
    "print(df.head(2)[\"Run\"])"
   ]
  },
  {
   "cell_type": "code",
   "execution_count": null,
   "metadata": {},
   "outputs": [],
   "source": [
    "!nextflow run nf-core/fetchngs -profile docker --max_memory \"6GB\" --input ./ids.csv --outdir ./output_ngs/"
   ]
  },
  {
   "cell_type": "markdown",
   "metadata": {},
   "source": [
    "While your files are downloading, get back to the paper and explain how you would try to reproduce the analysis.<br>\n",
    "When you are done with this shout, so we can discuss the different ideas.\n",
    "\n",
    "Given the fastq files of the tissue samples of the different groups, compare and identify key genetic components that are unique or modified, and the amount of them. Then try to find the modifications that were made to achive these modified genes in the affected mouse groups. For example, the rnaseq pipeline could be used for the differential abundance analysis step, using mostly the DeSeq output files and plots. "
   ]
  }
 ],
 "metadata": {
  "kernelspec": {
   "display_name": "comp_w",
   "language": "python",
   "name": "python3"
  },
  "language_info": {
   "codemirror_mode": {
    "name": "ipython",
    "version": 3
   },
   "file_extension": ".py",
   "mimetype": "text/x-python",
   "name": "python",
   "nbconvert_exporter": "python",
   "pygments_lexer": "ipython3",
   "version": "3.13.7"
  }
 },
 "nbformat": 4,
 "nbformat_minor": 2
}
