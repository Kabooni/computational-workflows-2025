{
 "cells": [
  {
   "cell_type": "markdown",
   "metadata": {},
   "source": [
    "# Day 6 - Nextflow Basics: Introduction to channels and operators"
   ]
  },
  {
   "cell_type": "markdown",
   "metadata": {},
   "source": [
    "Today, we will begin exploring Nextflow, the programming language that powers the advanced nf-core pipelines you worked with last week. Your task is to dive into the core concepts and syntax of Nextflow, understanding how this language enables the development of scalable and reproducible workflows.\n",
    "\n",
    "Nextflow works quite differently from traditional programming languages like Python or Java that you may already be familiar with. To get started, it is essential to understand the foundational concepts that set Nextflow apart."
   ]
  },
  {
   "cell_type": "markdown",
   "metadata": {},
   "source": [
    "### 1. Describe the concept of Workflows, Processes and Channels we deal with in Nextflow"
   ]
  },
  {
   "cell_type": "markdown",
   "metadata": {},
   "source": [
    "Workflows: A workflow defines the process and dataflow (channel) logic.\n",
    "\n",
    "\n",
    "\n",
    "\n",
    "\n",
    "Processes: A process is a specialized function for executing scripts in a scalable and portable manner. It defines the input and outputs, and the scripts that should be executed.\n",
    "\n",
    "\n",
    "\n",
    "\n",
    "\n",
    "\n",
    "Channels: A channel is an asynchronous dataflow structure which allows the flow of data from one process to another. It is basically an asynchronous sequence of values."
   ]
  },
  {
   "cell_type": "markdown",
   "metadata": {},
   "source": [
    "## Introduction to channels\n",
    "\n",
    "Please refer to the file  $\\texttt{channels\\_intro.nf}$ for the next exercises. Then run the code with the respective flag here below. "
   ]
  },
  {
   "cell_type": "code",
   "execution_count": 40,
   "metadata": {},
   "outputs": [
    {
     "name": "stdout",
     "output_type": "stream",
     "text": [
      "\n",
      "\u001b[1m\u001b[38;5;232m\u001b[48;5;43m N E X T F L O W \u001b[0;2m  ~  \u001b[mversion 25.04.7\u001b[m\n",
      "\u001b[K\n",
      "Launching\u001b[35m `channels_intro.nf` \u001b[0;2m[\u001b[0;1;36mhopeful_bhabha\u001b[0;2m] DSL2 - \u001b[36mrevision: \u001b[0;36me11eb327ee\u001b[m\n",
      "\u001b[K\n",
      "1\n",
      "2\n",
      "3\n",
      "4\n",
      "5\n",
      "6\n",
      "7\n",
      "8\n",
      "9\n",
      "10\n"
     ]
    }
   ],
   "source": [
    "# Task 1 - Create a channel that enumerates the numbers from 1 to 10\n",
    "!nextflow run channels_intro.nf --step 1"
   ]
  },
  {
   "cell_type": "code",
   "execution_count": 41,
   "metadata": {},
   "outputs": [
    {
     "name": "stdout",
     "output_type": "stream",
     "text": [
      "\n",
      "\u001b[1m\u001b[38;5;232m\u001b[48;5;43m N E X T F L O W \u001b[0;2m  ~  \u001b[mversion 25.04.7\u001b[m\n",
      "\u001b[K\n",
      "Launching\u001b[35m `channels_intro.nf` \u001b[0;2m[\u001b[0;1;36mintergalactic_mayer\u001b[0;2m] DSL2 - \u001b[36mrevision: \u001b[0;36me11eb327ee\u001b[m\n",
      "\u001b[K\n",
      "A\n",
      "B\n",
      "C\n",
      "D\n",
      "E\n",
      "F\n",
      "G\n",
      "H\n",
      "I\n",
      "J\n",
      "K\n",
      "L\n",
      "M\n",
      "N\n",
      "O\n",
      "P\n",
      "Q\n",
      "R\n",
      "S\n",
      "T\n",
      "U\n",
      "V\n",
      "W\n",
      "X\n",
      "Y\n",
      "Z\n"
     ]
    }
   ],
   "source": [
    "# Task 2 - Create a channel that gives out the entire alphabet\n",
    "!nextflow run channels_intro.nf --step 2"
   ]
  },
  {
   "cell_type": "code",
   "execution_count": 42,
   "metadata": {},
   "outputs": [
    {
     "name": "stdout",
     "output_type": "stream",
     "text": [
      "\n",
      "\u001b[1m\u001b[38;5;232m\u001b[48;5;43m N E X T F L O W \u001b[0;2m  ~  \u001b[mversion 25.04.7\u001b[m\n",
      "\u001b[K\n",
      "Launching\u001b[35m `channels_intro.nf` \u001b[0;2m[\u001b[0;1;36melegant_venter\u001b[0;2m] DSL2 - \u001b[36mrevision: \u001b[0;36me11eb327ee\u001b[m\n",
      "\u001b[K\n",
      "/mnt/c/Users/katja/Documents/GitHub/computational-workflows-2025/notebooks/day_04/files_dir/fastq.fq\n",
      "/mnt/c/Users/katja/Documents/GitHub/computational-workflows-2025/notebooks/day_04/files_dir/fastq1_1.fq\n",
      "/mnt/c/Users/katja/Documents/GitHub/computational-workflows-2025/notebooks/day_04/files_dir/fastq1_2.fq\n",
      "/mnt/c/Users/katja/Documents/GitHub/computational-workflows-2025/notebooks/day_04/files_dir/fastq2_1.fq\n",
      "/mnt/c/Users/katja/Documents/GitHub/computational-workflows-2025/notebooks/day_04/files_dir/fastq2_2.fq\n",
      "/mnt/c/Users/katja/Documents/GitHub/computational-workflows-2025/notebooks/day_04/files_dir/fastq3_1.fq\n",
      "/mnt/c/Users/katja/Documents/GitHub/computational-workflows-2025/notebooks/day_04/files_dir/fastq3_2.fq\n",
      "/mnt/c/Users/katja/Documents/GitHub/computational-workflows-2025/notebooks/day_04/files_dir/fastq4_1.fq\n",
      "/mnt/c/Users/katja/Documents/GitHub/computational-workflows-2025/notebooks/day_04/files_dir/fastq4_2.fq\n",
      "/mnt/c/Users/katja/Documents/GitHub/computational-workflows-2025/notebooks/day_04/files_dir/fastq5_1.fq\n",
      "/mnt/c/Users/katja/Documents/GitHub/computational-workflows-2025/notebooks/day_04/files_dir/fastq5_2.fq\n",
      "/mnt/c/Users/katja/Documents/GitHub/computational-workflows-2025/notebooks/day_04/files_dir/fastq_1.fq\n",
      "/mnt/c/Users/katja/Documents/GitHub/computational-workflows-2025/notebooks/day_04/files_dir/fastq_2.fq\n",
      "/mnt/c/Users/katja/Documents/GitHub/computational-workflows-2025/notebooks/day_04/files_dir/file_1.txt\n",
      "/mnt/c/Users/katja/Documents/GitHub/computational-workflows-2025/notebooks/day_04/files_dir/file_2.txt\n",
      "/mnt/c/Users/katja/Documents/GitHub/computational-workflows-2025/notebooks/day_04/files_dir/file_3.txt\n",
      "/mnt/c/Users/katja/Documents/GitHub/computational-workflows-2025/notebooks/day_04/files_dir/file_4.txt\n",
      "/mnt/c/Users/katja/Documents/GitHub/computational-workflows-2025/notebooks/day_04/files_dir/file_5.txt\n",
      "/mnt/c/Users/katja/Documents/GitHub/computational-workflows-2025/notebooks/day_04/files_dir/SRR.fq\n",
      "/mnt/c/Users/katja/Documents/GitHub/computational-workflows-2025/notebooks/day_04/files_dir/SRR1_1.fq\n",
      "/mnt/c/Users/katja/Documents/GitHub/computational-workflows-2025/notebooks/day_04/files_dir/SRR1_2.fq\n",
      "/mnt/c/Users/katja/Documents/GitHub/computational-workflows-2025/notebooks/day_04/files_dir/SRR2_1.fq\n",
      "/mnt/c/Users/katja/Documents/GitHub/computational-workflows-2025/notebooks/day_04/files_dir/SRR2_2.fq\n",
      "/mnt/c/Users/katja/Documents/GitHub/computational-workflows-2025/notebooks/day_04/files_dir/SRR3_1.fq\n",
      "/mnt/c/Users/katja/Documents/GitHub/computational-workflows-2025/notebooks/day_04/files_dir/SRR3_2.fq\n",
      "/mnt/c/Users/katja/Documents/GitHub/computational-workflows-2025/notebooks/day_04/files_dir/SRR4_1.fq\n",
      "/mnt/c/Users/katja/Documents/GitHub/computational-workflows-2025/notebooks/day_04/files_dir/SRR4_2.fq\n",
      "/mnt/c/Users/katja/Documents/GitHub/computational-workflows-2025/notebooks/day_04/files_dir/SRR5_1.fq\n",
      "/mnt/c/Users/katja/Documents/GitHub/computational-workflows-2025/notebooks/day_04/files_dir/SRR5_2.fq\n"
     ]
    }
   ],
   "source": [
    "# Task 3 - Create a channel that includes all files in the \"files_dir\" directory\n",
    "!nextflow run channels_intro.nf --step 3"
   ]
  },
  {
   "cell_type": "code",
   "execution_count": 43,
   "metadata": {},
   "outputs": [
    {
     "name": "stdout",
     "output_type": "stream",
     "text": [
      "\n",
      "\u001b[1m\u001b[38;5;232m\u001b[48;5;43m N E X T F L O W \u001b[0;2m  ~  \u001b[mversion 25.04.7\u001b[m\n",
      "\u001b[K\n",
      "Launching\u001b[35m `channels_intro.nf` \u001b[0;2m[\u001b[0;1;36msilly_payne\u001b[0;2m] DSL2 - \u001b[36mrevision: \u001b[0;36me11eb327ee\u001b[m\n",
      "\u001b[K\n",
      "/mnt/c/Users/katja/Documents/GitHub/computational-workflows-2025/notebooks/day_04/files_dir/file_1.txt\n",
      "/mnt/c/Users/katja/Documents/GitHub/computational-workflows-2025/notebooks/day_04/files_dir/file_2.txt\n",
      "/mnt/c/Users/katja/Documents/GitHub/computational-workflows-2025/notebooks/day_04/files_dir/file_3.txt\n",
      "/mnt/c/Users/katja/Documents/GitHub/computational-workflows-2025/notebooks/day_04/files_dir/file_4.txt\n",
      "/mnt/c/Users/katja/Documents/GitHub/computational-workflows-2025/notebooks/day_04/files_dir/file_5.txt\n"
     ]
    }
   ],
   "source": [
    "# Task 4 - Create a channel that includes all TXT files in the \"files_dir\" directory\n",
    "!nextflow run channels_intro.nf --step 4"
   ]
  },
  {
   "cell_type": "code",
   "execution_count": 44,
   "metadata": {},
   "outputs": [
    {
     "name": "stdout",
     "output_type": "stream",
     "text": [
      "\n",
      "\u001b[1m\u001b[38;5;232m\u001b[48;5;43m N E X T F L O W \u001b[0;2m  ~  \u001b[mversion 25.04.7\u001b[m\n",
      "\u001b[K\n",
      "Launching\u001b[35m `channels_intro.nf` \u001b[0;2m[\u001b[0;1;36mboring_poisson\u001b[0;2m] DSL2 - \u001b[36mrevision: \u001b[0;36me11eb327ee\u001b[m\n",
      "\u001b[K\n",
      "/mnt/c/Users/katja/Documents/GitHub/computational-workflows-2025/notebooks/day_04/files_dir/fastq_1.fq\n",
      "/mnt/c/Users/katja/Documents/GitHub/computational-workflows-2025/notebooks/day_04/files_dir/fastq_2.fq\n"
     ]
    }
   ],
   "source": [
    "# Task 5 - Create a channel that includes the files \"fastq_1.fq\" and \"fastq_2.fq\" in the \"files_dir\" directory\n",
    "!nextflow run channels_intro.nf --step 5"
   ]
  },
  {
   "cell_type": "code",
   "execution_count": 45,
   "metadata": {},
   "outputs": [
    {
     "name": "stdout",
     "output_type": "stream",
     "text": [
      "\n",
      "\u001b[1m\u001b[38;5;232m\u001b[48;5;43m N E X T F L O W \u001b[0;2m  ~  \u001b[mversion 25.04.7\u001b[m\n",
      "\u001b[K\n",
      "Launching\u001b[35m `channels_intro.nf` \u001b[0;2m[\u001b[0;1;36mdistraught_knuth\u001b[0;2m] DSL2 - \u001b[36mrevision: \u001b[0;36me11eb327ee\u001b[m\n",
      "\u001b[K\n",
      "/mnt/c/Users/katja/Documents/GitHub/computational-workflows-2025/notebooks/day_04/files_dir/.hidden_1.txt\n",
      "/mnt/c/Users/katja/Documents/GitHub/computational-workflows-2025/notebooks/day_04/files_dir/.hidden_2.txt\n",
      "/mnt/c/Users/katja/Documents/GitHub/computational-workflows-2025/notebooks/day_04/files_dir/fastq.fq\n",
      "/mnt/c/Users/katja/Documents/GitHub/computational-workflows-2025/notebooks/day_04/files_dir/fastq1_1.fq\n",
      "/mnt/c/Users/katja/Documents/GitHub/computational-workflows-2025/notebooks/day_04/files_dir/fastq1_2.fq\n",
      "/mnt/c/Users/katja/Documents/GitHub/computational-workflows-2025/notebooks/day_04/files_dir/fastq2_1.fq\n",
      "/mnt/c/Users/katja/Documents/GitHub/computational-workflows-2025/notebooks/day_04/files_dir/fastq2_2.fq\n",
      "/mnt/c/Users/katja/Documents/GitHub/computational-workflows-2025/notebooks/day_04/files_dir/fastq3_1.fq\n",
      "/mnt/c/Users/katja/Documents/GitHub/computational-workflows-2025/notebooks/day_04/files_dir/fastq3_2.fq\n",
      "/mnt/c/Users/katja/Documents/GitHub/computational-workflows-2025/notebooks/day_04/files_dir/fastq4_1.fq\n",
      "/mnt/c/Users/katja/Documents/GitHub/computational-workflows-2025/notebooks/day_04/files_dir/fastq4_2.fq\n",
      "/mnt/c/Users/katja/Documents/GitHub/computational-workflows-2025/notebooks/day_04/files_dir/fastq5_1.fq\n",
      "/mnt/c/Users/katja/Documents/GitHub/computational-workflows-2025/notebooks/day_04/files_dir/fastq5_2.fq\n",
      "/mnt/c/Users/katja/Documents/GitHub/computational-workflows-2025/notebooks/day_04/files_dir/fastq_1.fq\n",
      "/mnt/c/Users/katja/Documents/GitHub/computational-workflows-2025/notebooks/day_04/files_dir/fastq_2.fq\n",
      "/mnt/c/Users/katja/Documents/GitHub/computational-workflows-2025/notebooks/day_04/files_dir/file_1.txt\n",
      "/mnt/c/Users/katja/Documents/GitHub/computational-workflows-2025/notebooks/day_04/files_dir/file_2.txt\n",
      "/mnt/c/Users/katja/Documents/GitHub/computational-workflows-2025/notebooks/day_04/files_dir/file_3.txt\n",
      "/mnt/c/Users/katja/Documents/GitHub/computational-workflows-2025/notebooks/day_04/files_dir/file_4.txt\n",
      "/mnt/c/Users/katja/Documents/GitHub/computational-workflows-2025/notebooks/day_04/files_dir/file_5.txt\n",
      "/mnt/c/Users/katja/Documents/GitHub/computational-workflows-2025/notebooks/day_04/files_dir/SRR.fq\n",
      "/mnt/c/Users/katja/Documents/GitHub/computational-workflows-2025/notebooks/day_04/files_dir/SRR1_1.fq\n",
      "/mnt/c/Users/katja/Documents/GitHub/computational-workflows-2025/notebooks/day_04/files_dir/SRR1_2.fq\n",
      "/mnt/c/Users/katja/Documents/GitHub/computational-workflows-2025/notebooks/day_04/files_dir/SRR2_1.fq\n",
      "/mnt/c/Users/katja/Documents/GitHub/computational-workflows-2025/notebooks/day_04/files_dir/SRR2_2.fq\n",
      "/mnt/c/Users/katja/Documents/GitHub/computational-workflows-2025/notebooks/day_04/files_dir/SRR3_1.fq\n",
      "/mnt/c/Users/katja/Documents/GitHub/computational-workflows-2025/notebooks/day_04/files_dir/SRR3_2.fq\n",
      "/mnt/c/Users/katja/Documents/GitHub/computational-workflows-2025/notebooks/day_04/files_dir/SRR4_1.fq\n",
      "/mnt/c/Users/katja/Documents/GitHub/computational-workflows-2025/notebooks/day_04/files_dir/SRR4_2.fq\n",
      "/mnt/c/Users/katja/Documents/GitHub/computational-workflows-2025/notebooks/day_04/files_dir/SRR5_1.fq\n",
      "/mnt/c/Users/katja/Documents/GitHub/computational-workflows-2025/notebooks/day_04/files_dir/SRR5_2.fq\n"
     ]
    }
   ],
   "source": [
    "# Task 6 - go back to the time when you included all files. Are you sure that really ALL files are included? If not, how can you include them?\n",
    "!nextflow run channels_intro.nf --step 6"
   ]
  },
  {
   "cell_type": "code",
   "execution_count": 46,
   "metadata": {},
   "outputs": [
    {
     "name": "stdout",
     "output_type": "stream",
     "text": [
      "\n",
      "\u001b[1m\u001b[38;5;232m\u001b[48;5;43m N E X T F L O W \u001b[0;2m  ~  \u001b[mversion 25.04.7\u001b[m\n",
      "\u001b[K\n",
      "Launching\u001b[35m `channels_intro.nf` \u001b[0;2m[\u001b[0;1;36mberserk_kimura\u001b[0;2m] DSL2 - \u001b[36mrevision: \u001b[0;36me11eb327ee\u001b[m\n",
      "\u001b[K\n",
      "[fastq1, [/mnt/c/Users/katja/Documents/GitHub/computational-workflows-2025/notebooks/day_04/files_dir/fastq1_1.fq, /mnt/c/Users/katja/Documents/GitHub/computational-workflows-2025/notebooks/day_04/files_dir/fastq1_2.fq]]\n",
      "[fastq2, [/mnt/c/Users/katja/Documents/GitHub/computational-workflows-2025/notebooks/day_04/files_dir/fastq2_1.fq, /mnt/c/Users/katja/Documents/GitHub/computational-workflows-2025/notebooks/day_04/files_dir/fastq2_2.fq]]\n",
      "[fastq3, [/mnt/c/Users/katja/Documents/GitHub/computational-workflows-2025/notebooks/day_04/files_dir/fastq3_1.fq, /mnt/c/Users/katja/Documents/GitHub/computational-workflows-2025/notebooks/day_04/files_dir/fastq3_2.fq]]\n",
      "[fastq4, [/mnt/c/Users/katja/Documents/GitHub/computational-workflows-2025/notebooks/day_04/files_dir/fastq4_1.fq, /mnt/c/Users/katja/Documents/GitHub/computational-workflows-2025/notebooks/day_04/files_dir/fastq4_2.fq]]\n",
      "[fastq5, [/mnt/c/Users/katja/Documents/GitHub/computational-workflows-2025/notebooks/day_04/files_dir/fastq5_1.fq, /mnt/c/Users/katja/Documents/GitHub/computational-workflows-2025/notebooks/day_04/files_dir/fastq5_2.fq]]\n",
      "[fastq, [/mnt/c/Users/katja/Documents/GitHub/computational-workflows-2025/notebooks/day_04/files_dir/fastq_1.fq, /mnt/c/Users/katja/Documents/GitHub/computational-workflows-2025/notebooks/day_04/files_dir/fastq_2.fq]]\n",
      "[SRR1, [/mnt/c/Users/katja/Documents/GitHub/computational-workflows-2025/notebooks/day_04/files_dir/SRR1_1.fq, /mnt/c/Users/katja/Documents/GitHub/computational-workflows-2025/notebooks/day_04/files_dir/SRR1_2.fq]]\n",
      "[SRR2, [/mnt/c/Users/katja/Documents/GitHub/computational-workflows-2025/notebooks/day_04/files_dir/SRR2_1.fq, /mnt/c/Users/katja/Documents/GitHub/computational-workflows-2025/notebooks/day_04/files_dir/SRR2_2.fq]]\n",
      "[SRR3, [/mnt/c/Users/katja/Documents/GitHub/computational-workflows-2025/notebooks/day_04/files_dir/SRR3_1.fq, /mnt/c/Users/katja/Documents/GitHub/computational-workflows-2025/notebooks/day_04/files_dir/SRR3_2.fq]]\n",
      "[SRR4, [/mnt/c/Users/katja/Documents/GitHub/computational-workflows-2025/notebooks/day_04/files_dir/SRR4_1.fq, /mnt/c/Users/katja/Documents/GitHub/computational-workflows-2025/notebooks/day_04/files_dir/SRR4_2.fq]]\n",
      "[SRR5, [/mnt/c/Users/katja/Documents/GitHub/computational-workflows-2025/notebooks/day_04/files_dir/SRR5_1.fq, /mnt/c/Users/katja/Documents/GitHub/computational-workflows-2025/notebooks/day_04/files_dir/SRR5_2.fq]]\n",
      "[file, [/mnt/c/Users/katja/Documents/GitHub/computational-workflows-2025/notebooks/day_04/files_dir/file_1.txt, /mnt/c/Users/katja/Documents/GitHub/computational-workflows-2025/notebooks/day_04/files_dir/file_2.txt]]\n"
     ]
    }
   ],
   "source": [
    "# Task 7 - get all filepairs in the \"files_dir\" directory\n",
    "!nextflow run channels_intro.nf --step 7"
   ]
  },
  {
   "cell_type": "markdown",
   "metadata": {},
   "source": [
    "## Now that you have a solid understanding of the basic concepts of channels in Nextflow, it’s time to experiment and see how they work in practice."
   ]
  },
  {
   "cell_type": "markdown",
   "metadata": {},
   "source": [
    "To do so, Nextflow has the concept of Operators to give and pass information inbetween channels.\n",
    "\n",
    "Please answer the questions in $\\texttt{basic\\_channel\\_operations.nf}$ and run the code here. "
   ]
  },
  {
   "cell_type": "code",
   "execution_count": 47,
   "metadata": {},
   "outputs": [
    {
     "name": "stdout",
     "output_type": "stream",
     "text": [
      "\n",
      "\u001b[1m\u001b[38;5;232m\u001b[48;5;43m N E X T F L O W \u001b[0;2m  ~  \u001b[mversion 25.04.7\u001b[m\n",
      "\u001b[K\n",
      "Launching\u001b[35m `basic_channel_operations.nf` \u001b[0;2m[\u001b[0;1;36mridiculous_faraday\u001b[0;2m] DSL2 - \u001b[36mrevision: \u001b[0;36m1ac2aae500\u001b[m\n",
      "\u001b[K\n",
      "1\n"
     ]
    }
   ],
   "source": [
    "# Task 1 - Extract the first item from the channel\n",
    "!nextflow run basic_channel_operations.nf --step 1"
   ]
  },
  {
   "cell_type": "code",
   "execution_count": 48,
   "metadata": {},
   "outputs": [
    {
     "name": "stdout",
     "output_type": "stream",
     "text": [
      "\n",
      "\u001b[1m\u001b[38;5;232m\u001b[48;5;43m N E X T F L O W \u001b[0;2m  ~  \u001b[mversion 25.04.7\u001b[m\n",
      "\u001b[K\n",
      "Launching\u001b[35m `basic_channel_operations.nf` \u001b[0;2m[\u001b[0;1;36mmad_lorenz\u001b[0;2m] DSL2 - \u001b[36mrevision: \u001b[0;36m1ac2aae500\u001b[m\n",
      "\u001b[K\n",
      "3\n"
     ]
    }
   ],
   "source": [
    "# Task 2 - Extract the last item from the channel\n",
    "!nextflow run basic_channel_operations.nf --step 2"
   ]
  },
  {
   "cell_type": "code",
   "execution_count": 49,
   "metadata": {},
   "outputs": [
    {
     "name": "stdout",
     "output_type": "stream",
     "text": [
      "\n",
      "\u001b[1m\u001b[38;5;232m\u001b[48;5;43m N E X T F L O W \u001b[0;2m  ~  \u001b[mversion 25.04.7\u001b[m\n",
      "\u001b[K\n",
      "Launching\u001b[35m `basic_channel_operations.nf` \u001b[0;2m[\u001b[0;1;36mconfident_almeida\u001b[0;2m] DSL2 - \u001b[36mrevision: \u001b[0;36m1ac2aae500\u001b[m\n",
      "\u001b[K\n",
      "1\n",
      "2\n"
     ]
    }
   ],
   "source": [
    "# Task 3 - Use an operator to extract the first two items from the channel\n",
    "!nextflow run basic_channel_operations.nf --step 3"
   ]
  },
  {
   "cell_type": "code",
   "execution_count": 50,
   "metadata": {},
   "outputs": [
    {
     "name": "stdout",
     "output_type": "stream",
     "text": [
      "\n",
      "\u001b[1m\u001b[38;5;232m\u001b[48;5;43m N E X T F L O W \u001b[0;2m  ~  \u001b[mversion 25.04.7\u001b[m\n",
      "\u001b[K\n",
      "Launching\u001b[35m `basic_channel_operations.nf` \u001b[0;2m[\u001b[0;1;36mthirsty_hopper\u001b[0;2m] DSL2 - \u001b[36mrevision: \u001b[0;36m1ac2aae500\u001b[m\n",
      "\u001b[K\n",
      "4\n",
      "9\n",
      "16\n"
     ]
    }
   ],
   "source": [
    "# Task 4 - Return the squared values of the channel\n",
    "!nextflow run basic_channel_operations.nf --step 4"
   ]
  },
  {
   "cell_type": "code",
   "execution_count": 51,
   "metadata": {},
   "outputs": [
    {
     "name": "stdout",
     "output_type": "stream",
     "text": [
      "\n",
      "\u001b[1m\u001b[38;5;232m\u001b[48;5;43m N E X T F L O W \u001b[0;2m  ~  \u001b[mversion 25.04.7\u001b[m\n",
      "\u001b[K\n",
      "Launching\u001b[35m `basic_channel_operations.nf` \u001b[0;2m[\u001b[0;1;36mgolden_faraday\u001b[0;2m] DSL2 - \u001b[36mrevision: \u001b[0;36m1ac2aae500\u001b[m\n",
      "\u001b[K\n",
      "4\n",
      "9\n"
     ]
    }
   ],
   "source": [
    "# Task 5 - Remember the previous task where you squared the values of the channel. Now, extract the first two items from the squared channel\n",
    "!nextflow run basic_channel_operations.nf --step 5"
   ]
  },
  {
   "cell_type": "code",
   "execution_count": 52,
   "metadata": {},
   "outputs": [
    {
     "name": "stdout",
     "output_type": "stream",
     "text": [
      "\n",
      "\u001b[1m\u001b[38;5;232m\u001b[48;5;43m N E X T F L O W \u001b[0;2m  ~  \u001b[mversion 25.04.7\u001b[m\n",
      "\u001b[K\n",
      "Launching\u001b[35m `basic_channel_operations.nf` \u001b[0;2m[\u001b[0;1;36mmighty_pare\u001b[0;2m] DSL2 - \u001b[36mrevision: \u001b[0;36m1ac2aae500\u001b[m\n",
      "\u001b[K\n",
      "Swift\n",
      "Taylor\n"
     ]
    }
   ],
   "source": [
    "# Task 6 - Remember when you used bash to reverse the output? Try to use map and Groovy to reverse the output\n",
    "!nextflow run basic_channel_operations.nf --step 6"
   ]
  },
  {
   "cell_type": "code",
   "execution_count": 53,
   "metadata": {},
   "outputs": [
    {
     "name": "stdout",
     "output_type": "stream",
     "text": [
      "\n",
      "\u001b[1m\u001b[38;5;232m\u001b[48;5;43m N E X T F L O W \u001b[0;2m  ~  \u001b[mversion 25.04.7\u001b[m\n",
      "\u001b[K\n",
      "Launching\u001b[35m `basic_channel_operations.nf` \u001b[0;2m[\u001b[0;1;36msharp_plateau\u001b[0;2m] DSL2 - \u001b[36mrevision: \u001b[0;36m1ac2aae500\u001b[m\n",
      "\u001b[K\n",
      "[fastq.fq, /mnt/c/Users/katja/Documents/GitHub/computational-workflows-2025/notebooks/day_04/files_dir]\n",
      "[fastq1_1.fq, /mnt/c/Users/katja/Documents/GitHub/computational-workflows-2025/notebooks/day_04/files_dir]\n",
      "[fastq1_2.fq, /mnt/c/Users/katja/Documents/GitHub/computational-workflows-2025/notebooks/day_04/files_dir]\n",
      "[fastq2_1.fq, /mnt/c/Users/katja/Documents/GitHub/computational-workflows-2025/notebooks/day_04/files_dir]\n",
      "[fastq2_2.fq, /mnt/c/Users/katja/Documents/GitHub/computational-workflows-2025/notebooks/day_04/files_dir]\n",
      "[fastq3_1.fq, /mnt/c/Users/katja/Documents/GitHub/computational-workflows-2025/notebooks/day_04/files_dir]\n",
      "[fastq3_2.fq, /mnt/c/Users/katja/Documents/GitHub/computational-workflows-2025/notebooks/day_04/files_dir]\n",
      "[fastq4_1.fq, /mnt/c/Users/katja/Documents/GitHub/computational-workflows-2025/notebooks/day_04/files_dir]\n",
      "[fastq4_2.fq, /mnt/c/Users/katja/Documents/GitHub/computational-workflows-2025/notebooks/day_04/files_dir]\n",
      "[fastq5_1.fq, /mnt/c/Users/katja/Documents/GitHub/computational-workflows-2025/notebooks/day_04/files_dir]\n",
      "[fastq5_2.fq, /mnt/c/Users/katja/Documents/GitHub/computational-workflows-2025/notebooks/day_04/files_dir]\n",
      "[fastq_1.fq, /mnt/c/Users/katja/Documents/GitHub/computational-workflows-2025/notebooks/day_04/files_dir]\n",
      "[fastq_2.fq, /mnt/c/Users/katja/Documents/GitHub/computational-workflows-2025/notebooks/day_04/files_dir]\n",
      "[SRR.fq, /mnt/c/Users/katja/Documents/GitHub/computational-workflows-2025/notebooks/day_04/files_dir]\n",
      "[SRR1_1.fq, /mnt/c/Users/katja/Documents/GitHub/computational-workflows-2025/notebooks/day_04/files_dir]\n",
      "[SRR1_2.fq, /mnt/c/Users/katja/Documents/GitHub/computational-workflows-2025/notebooks/day_04/files_dir]\n",
      "[SRR2_1.fq, /mnt/c/Users/katja/Documents/GitHub/computational-workflows-2025/notebooks/day_04/files_dir]\n",
      "[SRR2_2.fq, /mnt/c/Users/katja/Documents/GitHub/computational-workflows-2025/notebooks/day_04/files_dir]\n",
      "[SRR3_1.fq, /mnt/c/Users/katja/Documents/GitHub/computational-workflows-2025/notebooks/day_04/files_dir]\n",
      "[SRR3_2.fq, /mnt/c/Users/katja/Documents/GitHub/computational-workflows-2025/notebooks/day_04/files_dir]\n",
      "[SRR4_1.fq, /mnt/c/Users/katja/Documents/GitHub/computational-workflows-2025/notebooks/day_04/files_dir]\n",
      "[SRR4_2.fq, /mnt/c/Users/katja/Documents/GitHub/computational-workflows-2025/notebooks/day_04/files_dir]\n",
      "[SRR5_1.fq, /mnt/c/Users/katja/Documents/GitHub/computational-workflows-2025/notebooks/day_04/files_dir]\n",
      "[SRR5_2.fq, /mnt/c/Users/katja/Documents/GitHub/computational-workflows-2025/notebooks/day_04/files_dir]\n"
     ]
    }
   ],
   "source": [
    "# Task 7 - Use fromPath to include all fastq files in the \"files_dir\" directory, then use map to return a pair containing the file name and the file path (Hint: include groovy code)\n",
    "!nextflow run basic_channel_operations.nf --step 7"
   ]
  },
  {
   "cell_type": "code",
   "execution_count": 54,
   "metadata": {},
   "outputs": [
    {
     "name": "stdout",
     "output_type": "stream",
     "text": [
      "\n",
      "\u001b[1m\u001b[38;5;232m\u001b[48;5;43m N E X T F L O W \u001b[0;2m  ~  \u001b[mversion 25.04.7\u001b[m\n",
      "\u001b[K\n",
      "Launching\u001b[35m `basic_channel_operations.nf` \u001b[0;2m[\u001b[0;1;36mvoluminous_lumiere\u001b[0;2m] DSL2 - \u001b[36mrevision: \u001b[0;36m1ac2aae500\u001b[m\n",
      "\u001b[K\n",
      "1\n",
      "2\n",
      "3\n",
      "4\n",
      "5\n",
      "6\n"
     ]
    }
   ],
   "source": [
    "# Task 8 - Combine the items from the two channels into a single channel\n",
    "!nextflow run basic_channel_operations.nf --step 8"
   ]
  },
  {
   "cell_type": "code",
   "execution_count": 55,
   "metadata": {},
   "outputs": [
    {
     "name": "stdout",
     "output_type": "stream",
     "text": [
      "\n",
      "\u001b[1m\u001b[38;5;232m\u001b[48;5;43m N E X T F L O W \u001b[0;2m  ~  \u001b[mversion 25.04.7\u001b[m\n",
      "\u001b[K\n",
      "Launching\u001b[35m `basic_channel_operations.nf` \u001b[0;2m[\u001b[0;1;36mdistracted_austin\u001b[0;2m] DSL2 - \u001b[36mrevision: \u001b[0;36m1ac2aae500\u001b[m\n",
      "\u001b[K\n",
      "1\n",
      "2\n",
      "3\n",
      "4\n",
      "5\n",
      "6\n"
     ]
    }
   ],
   "source": [
    "# Task 9 - Flatten the list in the channel\n",
    "!nextflow run basic_channel_operations.nf --step 9"
   ]
  },
  {
   "cell_type": "code",
   "execution_count": 56,
   "metadata": {},
   "outputs": [
    {
     "name": "stdout",
     "output_type": "stream",
     "text": [
      "\n",
      "\u001b[1m\u001b[38;5;232m\u001b[48;5;43m N E X T F L O W \u001b[0;2m  ~  \u001b[mversion 25.04.7\u001b[m\n",
      "\u001b[K\n",
      "Launching\u001b[35m `basic_channel_operations.nf` \u001b[0;2m[\u001b[0;1;36mvoluminous_mestorf\u001b[0;2m] DSL2 - \u001b[36mrevision: \u001b[0;36m1ac2aae500\u001b[m\n",
      "\u001b[K\n",
      "[1, 2, 3]\n"
     ]
    }
   ],
   "source": [
    "# Task 10 - Collect the items of a channel into a list. What kind of channel is the output channel?\n",
    "!nextflow run basic_channel_operations.nf --step 10"
   ]
  },
  {
   "cell_type": "markdown",
   "metadata": {},
   "source": [
    "What kind of channel is the output channel?\\\n",
    "It's a single-value channel."
   ]
  },
  {
   "cell_type": "code",
   "execution_count": 57,
   "metadata": {},
   "outputs": [
    {
     "name": "stdout",
     "output_type": "stream",
     "text": [
      "\n",
      "\u001b[1m\u001b[38;5;232m\u001b[48;5;43m N E X T F L O W \u001b[0;2m  ~  \u001b[mversion 25.04.7\u001b[m\n",
      "\u001b[K\n",
      "Launching\u001b[35m `basic_channel_operations.nf` \u001b[0;2m[\u001b[0;1;36mreverent_boltzmann\u001b[0;2m] DSL2 - \u001b[36mrevision: \u001b[0;36m1ac2aae500\u001b[m\n",
      "\u001b[K\n",
      "[1, [V, f, B]]\n",
      "[3, [M, G, 33]]\n",
      "[2, [O, L, E]]\n"
     ]
    }
   ],
   "source": [
    "# Task 11 -  From the input channel, create lists where each first item in the list of lists is the first item in the output channel, followed by a list of all the items its paired with\n",
    "!nextflow run basic_channel_operations.nf --step 11"
   ]
  },
  {
   "cell_type": "code",
   "execution_count": 58,
   "metadata": {},
   "outputs": [
    {
     "name": "stdout",
     "output_type": "stream",
     "text": [
      "\n",
      "\u001b[1m\u001b[38;5;232m\u001b[48;5;43m N E X T F L O W \u001b[0;2m  ~  \u001b[mversion 25.04.7\u001b[m\n",
      "\u001b[K\n",
      "Launching\u001b[35m `basic_channel_operations.nf` \u001b[0;2m[\u001b[0;1;36melegant_meitner\u001b[0;2m] DSL2 - \u001b[36mrevision: \u001b[0;36m1ac2aae500\u001b[m\n",
      "\u001b[K\n",
      "[1, V, f]\n",
      "[3, M, G]\n",
      "[2, O, L]\n"
     ]
    }
   ],
   "source": [
    "# Task 12 - Create a channel that joins the input to the output channel. What do you notice?\n",
    "!nextflow run basic_channel_operations.nf --step 12"
   ]
  },
  {
   "cell_type": "markdown",
   "metadata": {},
   "source": [
    "Task 12 - What do you notice compared to Task 11?\\\n",
    "With .join(), exactly two tuples are joined, not all with the suitable values (first list item). This results in some tuples being ignored."
   ]
  },
  {
   "cell_type": "code",
   "execution_count": 59,
   "metadata": {},
   "outputs": [
    {
     "name": "stdout",
     "output_type": "stream",
     "text": [
      "\n",
      "\u001b[1m\u001b[38;5;232m\u001b[48;5;43m N E X T F L O W \u001b[0;2m  ~  \u001b[mversion 25.04.7\u001b[m\n",
      "\u001b[K\n",
      "Launching\u001b[35m `basic_channel_operations.nf` \u001b[0;2m[\u001b[0;1;36mfervent_mayer\u001b[0;2m] DSL2 - \u001b[36mrevision: \u001b[0;36m1ac2aae500\u001b[m\n",
      "\u001b[K\n",
      "Odd numbers: [1, 3, 5, 7, 9]\n",
      "Even numbers: [2, 4, 6, 8, 10]\n"
     ]
    }
   ],
   "source": [
    "# Task 13 - Split the input channel into two channels, one of all the even numbers and the other of all the odd numbers.\n",
    "#           Write them to stdout including information about which is which\n",
    "!nextflow run basic_channel_operations.nf --step 13 -dump-channels"
   ]
  },
  {
   "cell_type": "code",
   "execution_count": 60,
   "metadata": {},
   "outputs": [
    {
     "name": "stdout",
     "output_type": "stream",
     "text": [
      "\n",
      "\u001b[1m\u001b[38;5;232m\u001b[48;5;43m N E X T F L O W \u001b[0;2m  ~  \u001b[mversion 25.04.7\u001b[m\n",
      "\u001b[K\n",
      "Launching\u001b[35m `basic_channel_operations.nf` \u001b[0;2m[\u001b[0;1;36mboring_lamport\u001b[0;2m] DSL2 - \u001b[36mrevision: \u001b[0;36m1ac2aae500\u001b[m\n",
      "\u001b[K\n",
      "Snape\n",
      "Albus\n",
      "Ron\n",
      "Hagrid\n",
      "Dobby\n",
      "Hermione\n",
      "Harry\n"
     ]
    }
   ],
   "source": [
    "# Task 14 - Nextflow has the concept of maps. Write the names in the maps in this channel to a file called \"names.txt\". Each name should be on a new line. \n",
    "#           Store the file in the \"results\" directory under the name \"names.txt\"\n",
    "\n",
    "!nextflow run basic_channel_operations.nf --step 14\n",
    "\n",
    "!cat results/names.txt\n"
   ]
  },
  {
   "cell_type": "markdown",
   "metadata": {},
   "source": [
    "## Now that we learned about Channels and Operators to deal with them, let's focus on Processes that make use of these channels."
   ]
  },
  {
   "cell_type": "markdown",
   "metadata": {},
   "source": [
    "Please answer the questions in $\\texttt{basics\\_processes.nf}$ and run the code here. "
   ]
  },
  {
   "cell_type": "code",
   "execution_count": 61,
   "metadata": {},
   "outputs": [
    {
     "name": "stdout",
     "output_type": "stream",
     "text": [
      "\n",
      "\u001b[1m\u001b[38;5;232m\u001b[48;5;43m N E X T F L O W \u001b[0;2m  ~  \u001b[mversion 25.04.7\u001b[m\n",
      "\u001b[K\n",
      "Launching\u001b[35m `basics_processes.nf` \u001b[0;2m[\u001b[0;1;36mshrivelled_church\u001b[0;2m] DSL2 - \u001b[36mrevision: \u001b[0;36m78447da6f7\u001b[m\n",
      "\u001b[K\n",
      "\u001b[2m[\u001b[0;34m-        \u001b[0;2m] \u001b[0;2m\u001b[mSAYHELLO -\u001b[K\n",
      "\u001b[2A\n",
      "\u001b[2m[\u001b[0;34m-        \u001b[0;2m] \u001b[0;2m\u001b[mSAYHELLO\u001b[2m |\u001b[m 0 of 1\u001b[K\n",
      "\u001b[2A\n",
      "\u001b[2mexecutor >  local (1)\u001b[m\u001b[K\n",
      "\u001b[2m[\u001b[0;34m53/c8a91c\u001b[0;2m] \u001b[0;2m\u001b[mSAYHELLO\u001b[2m |\u001b[m 1 of 1\u001b[32m ✔\u001b[m\u001b[K\n",
      "Hello World!\u001b[K\n",
      "\u001b[K\n",
      "\n"
     ]
    }
   ],
   "source": [
    "# Task 1 - create a process that says Hello World! (add debug true to the process right after initializing to be sable to print the output to the console)\n",
    "!nextflow run basics_processes.nf --step 1"
   ]
  },
  {
   "cell_type": "code",
   "execution_count": 62,
   "metadata": {},
   "outputs": [
    {
     "name": "stdout",
     "output_type": "stream",
     "text": [
      "\n",
      "\u001b[1m\u001b[38;5;232m\u001b[48;5;43m N E X T F L O W \u001b[0;2m  ~  \u001b[mversion 25.04.7\u001b[m\n",
      "\u001b[K\n",
      "Launching\u001b[35m `basics_processes.nf` \u001b[0;2m[\u001b[0;1;36mcondescending_leavitt\u001b[0;2m] DSL2 - \u001b[36mrevision: \u001b[0;36m78447da6f7\u001b[m\n",
      "\u001b[K\n",
      "\u001b[2m[\u001b[0;34m-        \u001b[0;2m] \u001b[0;2m\u001b[mSAYHELLO_PYTHON -\u001b[K\n",
      "\u001b[2A\n",
      "\u001b[2mexecutor >  local (1)\u001b[m\u001b[K\n",
      "\u001b[2m[\u001b[0;34mb7/db3d9e\u001b[0;2m] \u001b[0;2m\u001b[mSAYHELLO_PYTHON\u001b[2m |\u001b[m 1 of 1\u001b[32m ✔\u001b[m\u001b[K\n",
      "Hello World!\u001b[K\n",
      "\u001b[K\n",
      "\u001b[5A\n",
      "\u001b[2mexecutor >  local (1)\u001b[m\u001b[K\n",
      "\u001b[2m[\u001b[0;34mb7/db3d9e\u001b[0;2m] \u001b[0;2m\u001b[mSAYHELLO_PYTHON\u001b[2m |\u001b[m 1 of 1\u001b[32m ✔\u001b[m\u001b[K\n",
      "Hello World!\u001b[K\n",
      "\u001b[K\n",
      "\n"
     ]
    }
   ],
   "source": [
    "# Task 2 - create a process that says Hello World! using Python\n",
    "!nextflow run basics_processes.nf --step 2"
   ]
  },
  {
   "cell_type": "code",
   "execution_count": 63,
   "metadata": {},
   "outputs": [
    {
     "name": "stdout",
     "output_type": "stream",
     "text": [
      "\n",
      "\u001b[1m\u001b[38;5;232m\u001b[48;5;43m N E X T F L O W \u001b[0;2m  ~  \u001b[mversion 25.04.7\u001b[m\n",
      "\u001b[K\n",
      "Launching\u001b[35m `basics_processes.nf` \u001b[0;2m[\u001b[0;1;36mfurious_joliot\u001b[0;2m] DSL2 - \u001b[36mrevision: \u001b[0;36m78447da6f7\u001b[m\n",
      "\u001b[K\n",
      "\u001b[2m[\u001b[0;34m-        \u001b[0;2m] \u001b[0;2m\u001b[mSAYHELLO_PARAM\u001b[2m |\u001b[m 0 of 1\u001b[K\n",
      "\u001b[2A\n",
      "\u001b[2mexecutor >  local (1)\u001b[m\u001b[K\n",
      "\u001b[2m[\u001b[0;34maf/b51cb0\u001b[0;2m] \u001b[0;2m\u001b[mSAYHELLO_PARAM\u001b[33;2m (\u001b[0;33m1\u001b[2m)\u001b[m\u001b[2m |\u001b[m 1 of 1\u001b[32m ✔\u001b[m\u001b[K\n",
      "Hello world!\u001b[K\n",
      "\u001b[K\n",
      "\n"
     ]
    }
   ],
   "source": [
    "# Task 3 - create a process that reads in the string \"Hello world!\" from a channel and write it to command line\n",
    "!nextflow run basics_processes.nf --step 3"
   ]
  },
  {
   "cell_type": "code",
   "execution_count": 64,
   "metadata": {},
   "outputs": [
    {
     "name": "stdout",
     "output_type": "stream",
     "text": [
      "\n",
      "\u001b[1m\u001b[38;5;232m\u001b[48;5;43m N E X T F L O W \u001b[0;2m  ~  \u001b[mversion 25.04.7\u001b[m\n",
      "\u001b[K\n",
      "Launching\u001b[35m `basics_processes.nf` \u001b[0;2m[\u001b[0;1;36msick_swanson\u001b[0;2m] DSL2 - \u001b[36mrevision: \u001b[0;36m78447da6f7\u001b[m\n",
      "\u001b[K\n",
      "\u001b[2m[\u001b[0;34m-        \u001b[0;2m] \u001b[0;2m\u001b[mSAYHELLO_FILE -\u001b[K\n",
      "\u001b[2A\n",
      "\u001b[2m[\u001b[0;34m-        \u001b[0;2m] \u001b[0;2m\u001b[mSAYHELLO_FILE\u001b[2m |\u001b[m 0 of 1\u001b[K\n",
      "\u001b[2A\n",
      "\u001b[2mexecutor >  local (1)\u001b[m\u001b[K\n",
      "\u001b[2m[\u001b[0;34m88/2733c0\u001b[0;2m] \u001b[0;2m\u001b[mSAYHELLO_FILE\u001b[33;2m (\u001b[0;33m1\u001b[2m)\u001b[m\u001b[2m |\u001b[m 1 of 1\u001b[32m ✔\u001b[m\u001b[K\n",
      "\n"
     ]
    }
   ],
   "source": [
    "# Task 4 - create a process that reads in the string \"Hello world!\" from a channel and write it to a file. \n",
    "!nextflow run basics_processes.nf --step 4"
   ]
  },
  {
   "cell_type": "markdown",
   "metadata": {},
   "source": [
    "It might be that you created the file but it doesnt appear in the directory. Use the work folder and the output on the command line to find the file."
   ]
  },
  {
   "cell_type": "code",
   "execution_count": 65,
   "metadata": {},
   "outputs": [
    {
     "name": "stdout",
     "output_type": "stream",
     "text": [
      "\n",
      "\u001b[1m\u001b[38;5;232m\u001b[48;5;43m N E X T F L O W \u001b[0;2m  ~  \u001b[mversion 25.04.7\u001b[m\n",
      "\u001b[K\n",
      "Launching\u001b[35m `basics_processes.nf` \u001b[0;2m[\u001b[0;1;36mnasty_poisson\u001b[0;2m] DSL2 - \u001b[36mrevision: \u001b[0;36m78447da6f7\u001b[m\n",
      "\u001b[K\n",
      "\u001b[2m[\u001b[0;34m-        \u001b[0;2m] \u001b[0;2m\u001b[mUPPERCASE -\u001b[K\n",
      "\u001b[2A\n",
      "\u001b[2mexecutor >  local (1)\u001b[m\u001b[K\n",
      "\u001b[2m[\u001b[0;34mce/ab7751\u001b[0;2m] \u001b[0;2m\u001b[mUPPERCASE\u001b[33;2m (\u001b[0;33m1\u001b[2m)\u001b[m\u001b[2m |\u001b[m 0 of 1\u001b[K\n",
      "\u001b[3A\n",
      "\u001b[2mexecutor >  local (1)\u001b[m\u001b[K\n",
      "\u001b[2m[\u001b[0;34mce/ab7751\u001b[0;2m] \u001b[0;2m\u001b[mUPPERCASE\u001b[33;2m (\u001b[0;33m1\u001b[2m)\u001b[m\u001b[2m |\u001b[m 1 of 1\u001b[32m ✔\u001b[m\u001b[K\n",
      "/mnt/c/Users/katja/Documents/GitHub/computational-workflows-2025/notebooks/day_04/work/ce/ab7751d4ce03c4dfafdd1f190c945b/uppercase.txt\u001b[K\n",
      "./uppercase.txt\u001b[K\n",
      "\u001b[K\n",
      "\n",
      "./results/uppercase.txt\n"
     ]
    }
   ],
   "source": [
    "# Task 5 - create a process that reads in a string and converts it to uppercase and saves it to a file as output. View the path to the file in the console\n",
    "!nextflow run basics_processes.nf --step 5\n",
    "!find ./results/ -name uppercase.txt"
   ]
  },
  {
   "cell_type": "code",
   "execution_count": 66,
   "metadata": {},
   "outputs": [
    {
     "name": "stdout",
     "output_type": "stream",
     "text": [
      "\n",
      "\u001b[1m\u001b[38;5;232m\u001b[48;5;43m N E X T F L O W \u001b[0;2m  ~  \u001b[mversion 25.04.7\u001b[m\n",
      "\u001b[K\n",
      "Launching\u001b[35m `basics_processes.nf` \u001b[0;2m[\u001b[0;1;36mangry_hawking\u001b[0;2m] DSL2 - \u001b[36mrevision: \u001b[0;36m78447da6f7\u001b[m\n",
      "\u001b[K\n",
      "\u001b[2m[\u001b[0;34m-        \u001b[0;2m] \u001b[0;2m\u001b[mUPPERCASE \u001b[2m |\u001b[m 0 of 1\u001b[K\n",
      "\u001b[2m[\u001b[0;34m-        \u001b[0;2m] \u001b[0;2m\u001b[mPRINTUPPER -\u001b[K\n",
      "\u001b[3A\n",
      "\u001b[2mexecutor >  local (2)\u001b[m\u001b[K\n",
      "\u001b[2m[\u001b[0;34m34/1380ba\u001b[0;2m] \u001b[0;2m\u001b[mUPPERCASE\u001b[33;2m (\u001b[0;33m1\u001b[2m)\u001b[m \u001b[2m |\u001b[m 1 of 1\u001b[32m ✔\u001b[m\u001b[K\n",
      "\u001b[2m[\u001b[0;34m08/8eddf1\u001b[0;2m] \u001b[0;2m\u001b[mPRINTUPPER\u001b[33;2m (\u001b[0;33m1\u001b[2m)\u001b[m\u001b[2m |\u001b[m 0 of 1\u001b[K\n",
      "./uppercase.txt\u001b[K\n",
      "\u001b[K\n",
      "\u001b[6A\n",
      "\u001b[2mexecutor >  local (2)\u001b[m\u001b[K\n",
      "\u001b[2m[\u001b[0;34m34/1380ba\u001b[0;2m] \u001b[0;2m\u001b[mUPPERCASE\u001b[33;2m (\u001b[0;33m1\u001b[2m)\u001b[m \u001b[2m |\u001b[m 1 of 1\u001b[32m ✔\u001b[m\u001b[K\n",
      "\u001b[2m[\u001b[0;34m08/8eddf1\u001b[0;2m] \u001b[0;2m\u001b[mPRINTUPPER\u001b[33;2m (\u001b[0;33m1\u001b[2m)\u001b[m\u001b[2m |\u001b[m 1 of 1\u001b[32m ✔\u001b[m\u001b[K\n",
      "./uppercase.txt\u001b[K\n",
      "\u001b[K\n",
      "Content of the file:\u001b[K\n",
      "HELLO WORLD!\u001b[K\n",
      "\u001b[K\n",
      "\n"
     ]
    }
   ],
   "source": [
    "# Task 6 - add another process that reads in the resulting file from UPPERCASE and print the content to the console (debug true).\n",
    "!nextflow run basics_processes.nf --step 6"
   ]
  },
  {
   "cell_type": "markdown",
   "metadata": {},
   "source": [
    "Comared to all the other runs. What changed in the output here and why?"
   ]
  },
  {
   "cell_type": "code",
   "execution_count": 67,
   "metadata": {},
   "outputs": [
    {
     "name": "stdout",
     "output_type": "stream",
     "text": [
      "\n",
      "\u001b[1m\u001b[38;5;232m\u001b[48;5;43m N E X T F L O W \u001b[0;2m  ~  \u001b[mversion 25.04.7\u001b[m\n",
      "\u001b[K\n",
      "Launching\u001b[35m `basics_processes.nf` \u001b[0;2m[\u001b[0;1;36minfallible_lamarck\u001b[0;2m] DSL2 - \u001b[36mrevision: \u001b[0;36m78447da6f7\u001b[m\n",
      "\u001b[K\n",
      "\u001b[2m[\u001b[0;34m-        \u001b[0;2m] \u001b[0;2m\u001b[mUPPERCASE -\u001b[K\n",
      "\u001b[2m[\u001b[0;34m-        \u001b[0;2m] \u001b[0;2m\u001b[mZIPUPPER  -\u001b[K\n",
      "\u001b[3A\n",
      "\u001b[2mexecutor >  local (1)\u001b[m\u001b[K\n",
      "\u001b[2m[\u001b[0;34m17/68794e\u001b[0;2m] \u001b[0;2m\u001b[mUPPERCASE\u001b[33;2m (\u001b[0;33m1\u001b[2m)\u001b[m\u001b[2m |\u001b[m 0 of 1\u001b[K\n",
      "\u001b[2m[\u001b[0;34m-        \u001b[0;2m] \u001b[0;2m\u001b[mZIPUPPER      -\u001b[K\n",
      "\u001b[4A\n",
      "\u001b[2mexecutor >  local (2)\u001b[m\u001b[K\n",
      "\u001b[2m[\u001b[0;34m17/68794e\u001b[0;2m] \u001b[0;2m\u001b[mUPPERCASE\u001b[33;2m (\u001b[0;33m1\u001b[2m)\u001b[m\u001b[2m |\u001b[m 1 of 1\u001b[32m ✔\u001b[m\u001b[K\n",
      "\u001b[2m[\u001b[0;34ma7/3d2cd8\u001b[0;2m] \u001b[0;2m\u001b[mZIPUPPER\u001b[33;2m (\u001b[0;33m1\u001b[2m)\u001b[m \u001b[2m |\u001b[m 0 of 1\u001b[K\n",
      "./uppercase.txt\u001b[K\n",
      "\u001b[K\n",
      "\u001b[6A\n",
      "\u001b[2mexecutor >  local (2)\u001b[m\u001b[K\n",
      "\u001b[2m[\u001b[0;34m17/68794e\u001b[0;2m] \u001b[0;2m\u001b[mUPPERCASE\u001b[33;2m (\u001b[0;33m1\u001b[2m)\u001b[m\u001b[2m |\u001b[m 1 of 1\u001b[32m ✔\u001b[m\u001b[K\n",
      "\u001b[2m[\u001b[0;34ma7/3d2cd8\u001b[0;2m] \u001b[0;2m\u001b[mZIPUPPER\u001b[33;2m (\u001b[0;33m1\u001b[2m)\u001b[m \u001b[2m |\u001b[m 1 of 1\u001b[32m ✔\u001b[m\u001b[K\n",
      "./uppercase.txt\u001b[K\n",
      "\u001b[K\n",
      "  adding: uppercase.txt (stored 0%)\u001b[K\n",
      "\u001b[K\n",
      "\n",
      "./results/uppercase.txt.bz2\n",
      "./results/uppercase.txt.gz\n",
      "./results/uppercase.txt.zip\n"
     ]
    }
   ],
   "source": [
    "# Task 7 - based on the paramater \"zip\" (see at the head of the file), create a process that zips the file created in the UPPERCASE process either in \"zip\", \"gzip\" OR \"bzip2\" format.\n",
    "#          Print out the path to the zipped file in the console\n",
    "!nextflow run basics_processes.nf --step 7\n",
    "!find ./results/ -name uppercase.txt.*"
   ]
  },
  {
   "cell_type": "code",
   "execution_count": 68,
   "metadata": {},
   "outputs": [
    {
     "name": "stdout",
     "output_type": "stream",
     "text": [
      "\n",
      "\u001b[1m\u001b[38;5;232m\u001b[48;5;43m N E X T F L O W \u001b[0;2m  ~  \u001b[mversion 25.04.7\u001b[m\n",
      "\u001b[K\n",
      "Launching\u001b[35m `basics_processes.nf` \u001b[0;2m[\u001b[0;1;36mgoofy_faraday\u001b[0;2m] DSL2 - \u001b[36mrevision: \u001b[0;36m78447da6f7\u001b[m\n",
      "\u001b[K\n",
      "\u001b[2m[\u001b[0;34m-        \u001b[0;2m] \u001b[0;2m\u001b[mUPPERCASE   -\u001b[K\n",
      "\u001b[2m[\u001b[0;34m-        \u001b[0;2m] \u001b[0;2m\u001b[mZIPALLUPPER -\u001b[K\n",
      "\u001b[3A\n",
      "\u001b[2mexecutor >  local (1)\u001b[m\u001b[K\n",
      "\u001b[2m[\u001b[0;34m7b/9c049f\u001b[0;2m] \u001b[0;2m\u001b[mUPPERCASE\u001b[33;2m (\u001b[0;33m1\u001b[2m)\u001b[m\u001b[2m |\u001b[m 0 of 1\u001b[K\n",
      "\u001b[2m[\u001b[0;34m-        \u001b[0;2m] \u001b[0;2m\u001b[mZIPALLUPPER   -\u001b[K\n",
      "\u001b[4A\n",
      "\u001b[2mexecutor >  local (2)\u001b[m\u001b[K\n",
      "\u001b[2m[\u001b[0;34m7b/9c049f\u001b[0;2m] \u001b[0;2m\u001b[mUPPERCASE\u001b[33;2m (\u001b[0;33m1\u001b[2m)\u001b[m  \u001b[2m |\u001b[m 1 of 1\u001b[32m ✔\u001b[m\u001b[K\n",
      "\u001b[2m[\u001b[0;34me1/1074a4\u001b[0;2m] \u001b[0;2m\u001b[mZIPALLUPPER\u001b[33;2m (\u001b[0;33m1\u001b[2m)\u001b[m\u001b[2m |\u001b[m 0 of 1\u001b[K\n",
      "./uppercase.txt\u001b[K\n",
      "\u001b[K\n",
      "\u001b[6A\n",
      "\u001b[2mexecutor >  local (2)\u001b[m\u001b[K\n",
      "\u001b[2m[\u001b[0;34m7b/9c049f\u001b[0;2m] \u001b[0;2m\u001b[mUPPERCASE\u001b[33;2m (\u001b[0;33m1\u001b[2m)\u001b[m  \u001b[2m |\u001b[m 1 of 1\u001b[32m ✔\u001b[m\u001b[K\n",
      "\u001b[2m[\u001b[0;34me1/1074a4\u001b[0;2m] \u001b[0;2m\u001b[mZIPALLUPPER\u001b[33;2m (\u001b[0;33m1\u001b[2m)\u001b[m\u001b[2m |\u001b[m 1 of 1\u001b[32m ✔\u001b[m\u001b[K\n",
      "./uppercase.txt\u001b[K\n",
      "\u001b[K\n",
      "  adding: uppercase.txt (stored 0%)\u001b[K\n",
      "\u001b[K\n",
      "\n",
      "./results/uppercase.txt.bz2\n",
      "./results/uppercase.txt.gz\n",
      "./results/uppercase.txt.zip\n"
     ]
    }
   ],
   "source": [
    "# Task 8 - Create a process that zips the file created in the UPPERCASE process in \"zip\", \"gzip\" AND \"bzip2\" format. Print out the paths to the zipped files in the console\n",
    "!nextflow run basics_processes.nf --step 8\n",
    "!find ./results/ -name uppercase.txt.*"
   ]
  },
  {
   "cell_type": "code",
   "execution_count": 84,
   "metadata": {},
   "outputs": [
    {
     "name": "stdout",
     "output_type": "stream",
     "text": [
      "\n",
      "\u001b[1m\u001b[38;5;232m\u001b[48;5;43m N E X T F L O W \u001b[0;2m  ~  \u001b[mversion 25.04.7\u001b[m\n",
      "\u001b[K\n",
      "Launching\u001b[35m `basics_processes.nf` \u001b[0;2m[\u001b[0;1;36mgloomy_mandelbrot\u001b[0;2m] DSL2 - \u001b[36mrevision: \u001b[0;36mda1b6d05e6\u001b[m\n",
      "\u001b[K\n",
      "\u001b[2m[\u001b[0;34m-        \u001b[0;2m] \u001b[0;2m\u001b[mWRITETOFILE -\u001b[K\n",
      "\u001b[2A\n",
      "\u001b[2mexecutor >  local (4)\u001b[m\u001b[K\n",
      "\u001b[2m[\u001b[0;34mf2/f0de89\u001b[0;2m] \u001b[0;2m\u001b[mWRITETOFILE\u001b[33;2m (\u001b[0;33m7\u001b[2m)\u001b[m\u001b[2m |\u001b[m 0 of 7\u001b[K\n",
      "\u001b[3A\n",
      "\u001b[2mexecutor >  local (7)\u001b[m\u001b[K\n",
      "\u001b[2m[\u001b[0;34mf7/1ba3d1\u001b[0;2m] \u001b[0;2m\u001b[mWRITETOFILE\u001b[33;2m (\u001b[0;33m3\u001b[2m)\u001b[m\u001b[2m |\u001b[m 7 of 7\u001b[32m ✔\u001b[m\u001b[K\n",
      "\u001b[3A\n",
      "\u001b[2mexecutor >  local (7)\u001b[m\u001b[K\n",
      "\u001b[2m[\u001b[0;34mf7/1ba3d1\u001b[0;2m] \u001b[0;2m\u001b[mWRITETOFILE\u001b[33;2m (\u001b[0;33m3\u001b[2m)\u001b[m\u001b[2m |\u001b[m 7 of 7\u001b[32m ✔\u001b[m\u001b[K\n",
      "\n",
      "./results/names.tsv\n"
     ]
    }
   ],
   "source": [
    " # Task 9 - Create a process that reads in a list of names and titles from a channel and writes them to a file.\n",
    "#           Store the file in the \"results\" directory under the name \"names.tsv\"\n",
    "!nextflow run basics_processes.nf --step 9\n",
    "!find ./results/ -name names.tsv"
   ]
  },
  {
   "cell_type": "code",
   "execution_count": 85,
   "metadata": {},
   "outputs": [
    {
     "data": {
      "text/html": [
       "<div>\n",
       "<style scoped>\n",
       "    .dataframe tbody tr th:only-of-type {\n",
       "        vertical-align: middle;\n",
       "    }\n",
       "\n",
       "    .dataframe tbody tr th {\n",
       "        vertical-align: top;\n",
       "    }\n",
       "\n",
       "    .dataframe thead th {\n",
       "        text-align: right;\n",
       "    }\n",
       "</style>\n",
       "<table border=\"1\" class=\"dataframe\">\n",
       "  <thead>\n",
       "    <tr style=\"text-align: right;\">\n",
       "      <th></th>\n",
       "      <th>name</th>\n",
       "      <th>title</th>\n",
       "    </tr>\n",
       "  </thead>\n",
       "  <tbody>\n",
       "    <tr>\n",
       "      <th>0</th>\n",
       "      <td>Snape</td>\n",
       "      <td>teacher</td>\n",
       "    </tr>\n",
       "  </tbody>\n",
       "</table>\n",
       "</div>"
      ],
      "text/plain": [
       "    name    title\n",
       "0  Snape  teacher"
      ]
     },
     "execution_count": 85,
     "metadata": {},
     "output_type": "execute_result"
    }
   ],
   "source": [
    "import pandas as pd\n",
    "\n",
    "df = pd.read_csv(\"results/names.tsv\", sep=\"\\t\", header=None, names=[\"name\", \"title\"])\n",
    "df"
   ]
  },
  {
   "cell_type": "markdown",
   "metadata": {},
   "source": [
    "## Now, let's try some more advanced Operators"
   ]
  },
  {
   "cell_type": "markdown",
   "metadata": {},
   "source": [
    "Please answer the questions in $\\texttt{advanced\\_channel\\_operations.nf}$ and run the code here. "
   ]
  },
  {
   "cell_type": "markdown",
   "metadata": {},
   "source": [
    "To come closer to actual pipelines, we introduce the concept of \"meta-maps\" which you can imagine as dictionaries that are passed with data via channels containing crucial metadata on the sample. \n",
    "\n",
    "Also, we will come back to samplesheets which you should remember from last week."
   ]
  },
  {
   "cell_type": "code",
   "execution_count": 88,
   "metadata": {},
   "outputs": [
    {
     "name": "stdout",
     "output_type": "stream",
     "text": [
      "\n",
      "\u001b[1m\u001b[38;5;232m\u001b[48;5;43m N E X T F L O W \u001b[0;2m  ~  \u001b[mversion 25.04.7\u001b[m\n",
      "\u001b[K\n",
      "Launching\u001b[35m `advanced_channel_operations.nf` \u001b[0;2m[\u001b[0;1;36mconfident_golick\u001b[0;2m] DSL2 - \u001b[36mrevision: \u001b[0;36mdc10db2ec8\u001b[m\n",
      "\u001b[K\n",
      "[sample:CONTROL_REP1, fastq_1:fq_1_R1.fastq.gz, fastq_2:fq_1_R2.fastq.gz, strandedness:auto]\n",
      "[sample:CONTROL_REP2, fastq_1:fq_2_R1.fastq.gz, fastq_2:fq_2_R2.fastq.gz, strandedness:forward]\n",
      "[sample:CONTROL_REP3, fastq_1:fq_3_R1.fastq.gz, fastq_2:fq_3_R2.fastq.gz, strandedness:reverse]\n",
      "[sample:CONTROL_REP1, fastq_1:fq_4_R1.fastq.gz, fastq_2:fq_4_R2.fastq.gz, strandedness:auto]\n"
     ]
    }
   ],
   "source": [
    "# Task 1 - Read in the samplesheet.\n",
    "\n",
    "!nextflow run advanced_channel_operations.nf --step 1"
   ]
  },
  {
   "cell_type": "code",
   "execution_count": 90,
   "metadata": {},
   "outputs": [
    {
     "name": "stdout",
     "output_type": "stream",
     "text": [
      "\n",
      "\u001b[1m\u001b[38;5;232m\u001b[48;5;43m N E X T F L O W \u001b[0;2m  ~  \u001b[mversion 25.04.7\u001b[m\n",
      "\u001b[K\n",
      "Launching\u001b[35m `advanced_channel_operations.nf` \u001b[0;2m[\u001b[0;1;36mfervent_pasteur\u001b[0;2m] DSL2 - \u001b[36mrevision: \u001b[0;36madd6d44de1\u001b[m\n",
      "\u001b[K\n",
      "[[sample:CONTROL_REP1, strandedness:auto], [fq_1_R1.fastq.gz, fq_1_R2.fastq.gz]]\n",
      "[[sample:CONTROL_REP2, strandedness:forward], [fq_2_R1.fastq.gz, fq_2_R2.fastq.gz]]\n",
      "[[sample:CONTROL_REP3, strandedness:reverse], [fq_3_R1.fastq.gz, fq_3_R2.fastq.gz]]\n",
      "[[sample:CONTROL_REP1, strandedness:auto], [fq_4_R1.fastq.gz, fq_4_R2.fastq.gz]]\n"
     ]
    }
   ],
   "source": [
    "# Task 2 - Read in the samplesheet and create a meta-map with all metadata and another list with the filenames ([[metadata_1 : metadata_1, ...], [fastq_1, fastq_2]]).\n",
    "#          Set the output to a new channel \"in_ch\" and view the channel. YOU WILL NEED TO COPY AND PASTE THIS CODE INTO SOME OF THE FOLLOWING TASKS (sorry for that).\n",
    "\n",
    "!nextflow run advanced_channel_operations.nf --step 2"
   ]
  },
  {
   "cell_type": "code",
   "execution_count": 100,
   "metadata": {},
   "outputs": [
    {
     "name": "stdout",
     "output_type": "stream",
     "text": [
      "\n",
      "\u001b[1m\u001b[38;5;232m\u001b[48;5;43m N E X T F L O W \u001b[0;2m  ~  \u001b[mversion 25.04.7\u001b[m\n",
      "\u001b[K\n",
      "Launching\u001b[35m `advanced_channel_operations.nf` \u001b[0;2m[\u001b[0;1;36mromantic_plateau\u001b[0;2m] DSL2 - \u001b[36mrevision: \u001b[0;36m53eba2934b\u001b[m\n",
      "\u001b[K\n",
      "[forward channel:, [[sample:CONTROL_REP2, strandedness:forward], [fq_2_R1.fastq.gz, fq_2_R2.fastq.gz]]]\n",
      "[reverse channel:, [[sample:CONTROL_REP3, strandedness:reverse], [fq_3_R1.fastq.gz, fq_3_R2.fastq.gz]]]\n",
      "[auto channel:, [[sample:CONTROL_REP1, strandedness:auto], [fq_1_R1.fastq.gz, fq_1_R2.fastq.gz]]]\n",
      "[auto channel:, [[sample:CONTROL_REP1, strandedness:auto], [fq_4_R1.fastq.gz, fq_4_R2.fastq.gz]]]\n"
     ]
    }
   ],
   "source": [
    "# Task 3 - Now we assume that we want to handle different \"strandedness\" values differently. \n",
    "#          Split the channel into the right amount of channels and write them all to stdout so that we can understand which is which.\n",
    "\n",
    "!nextflow run advanced_channel_operations.nf --step 3 -dump-channels"
   ]
  },
  {
   "cell_type": "code",
   "execution_count": 102,
   "metadata": {},
   "outputs": [
    {
     "name": "stdout",
     "output_type": "stream",
     "text": [
      "\n",
      "\u001b[1m\u001b[38;5;232m\u001b[48;5;43m N E X T F L O W \u001b[0;2m  ~  \u001b[mversion 25.04.7\u001b[m\n",
      "\u001b[K\n",
      "Launching\u001b[35m `advanced_channel_operations.nf` \u001b[0;2m[\u001b[0;1;36mgigantic_yalow\u001b[0;2m] DSL2 - \u001b[36mrevision: \u001b[0;36m82e1635efd\u001b[m\n",
      "\u001b[K\n",
      "[[sample:CONTROL_REP1, strandedness:auto], [[fq_1_R1.fastq.gz, fq_1_R2.fastq.gz], [fq_4_R1.fastq.gz, fq_4_R2.fastq.gz]]]\n",
      "[[sample:CONTROL_REP2, strandedness:forward], [[fq_2_R1.fastq.gz, fq_2_R2.fastq.gz]]]\n",
      "[[sample:CONTROL_REP3, strandedness:reverse], [[fq_3_R1.fastq.gz, fq_3_R2.fastq.gz]]]\n"
     ]
    }
   ],
   "source": [
    "# Task 4 - Group together all files with the same sample-id and strandedness value.\n",
    "\n",
    "!nextflow run advanced_channel_operations.nf --step 4"
   ]
  },
  {
   "cell_type": "markdown",
   "metadata": {},
   "source": [
    "## It's finally time to link processes and channels with each other"
   ]
  },
  {
   "cell_type": "markdown",
   "metadata": {},
   "source": [
    "Please go to the file $\\texttt{link\\_p\\_c.nf}$"
   ]
  },
  {
   "cell_type": "code",
   "execution_count": 118,
   "metadata": {},
   "outputs": [
    {
     "name": "stdout",
     "output_type": "stream",
     "text": [
      "\n",
      "\u001b[1m\u001b[38;5;232m\u001b[48;5;43m N E X T F L O W \u001b[0;2m  ~  \u001b[mversion 25.04.7\u001b[m\n",
      "\u001b[K\n",
      "Launching\u001b[35m `link_p_c.nf` \u001b[0;2m[\u001b[0;1;36mfervent_baekeland\u001b[0;2m] DSL2 - \u001b[36mrevision: \u001b[0;36mf2abfe69dd\u001b[m\n",
      "\u001b[K\n",
      "\u001b[2m[\u001b[0;34m-        \u001b[0;2m] \u001b[0;2m\u001b[mSPLITLETTERS -\u001b[K\n",
      "[[block_size:4], [Hello World, h_w]]\u001b[K\n",
      "[[block_size:3], [Computational Workflows, c_w]]\u001b[K\n",
      "\u001b[4A\n",
      "\u001b[2mexecutor >  local (2)\u001b[m\u001b[K\n",
      "\u001b[2m[\u001b[0;34mb4/eb8305\u001b[0;2m] \u001b[0;2m\u001b[mSPLITLETTERS\u001b[33;2m (\u001b[0;33m2\u001b[2m)\u001b[m\u001b[2m |\u001b[m 0 of 2\u001b[K\n",
      "[[block_size:4], [Hello World, h_w]]\u001b[K\n",
      "[[block_size:3], [Computational Workflows, c_w]]\u001b[K\n",
      "\u001b[5A\n",
      "\u001b[2mexecutor >  local (2)\u001b[m\u001b[K\n",
      "\u001b[2m[\u001b[0;34mb4/eb8305\u001b[0;2m] \u001b[0;2m\u001b[mSPLITLETTERS\u001b[33;2m (\u001b[0;33m2\u001b[2m)\u001b[m\u001b[2m |\u001b[m 2 of 2\u001b[32m ✔\u001b[m\u001b[K\n",
      "[[block_size:4], [Hello World, h_w]]\u001b[K\n",
      "[[block_size:3], [Computational Workflows, c_w]]\u001b[K\n",
      "\u001b[5A\n",
      "\u001b[2mexecutor >  local (2)\u001b[m\u001b[K\n",
      "\u001b[2m[\u001b[0;34mb4/eb8305\u001b[0;2m] \u001b[0;2m\u001b[mSPLITLETTERS\u001b[33;2m (\u001b[0;33m2\u001b[2m)\u001b[m\u001b[2m |\u001b[m 2 of 2\u001b[32m ✔\u001b[m\u001b[K\n",
      "[[block_size:4], [Hello World, h_w]]\u001b[K\n",
      "[[block_size:3], [Computational Workflows, c_w]]\u001b[K\n",
      "\n"
     ]
    }
   ],
   "source": [
    "!nextflow run link_p_c.nf"
   ]
  },
  {
   "cell_type": "markdown",
   "metadata": {},
   "source": [
    "### Give a list with the paths to the chunk files"
   ]
  },
  {
   "cell_type": "code",
   "execution_count": 117,
   "metadata": {},
   "outputs": [
    {
     "name": "stdout",
     "output_type": "stream",
     "text": [
      "./results/link_p_c/c_w_block_0.txt\n",
      "./results/link_p_c/c_w_block_12.txt\n",
      "./results/link_p_c/c_w_block_15.txt\n",
      "./results/link_p_c/c_w_block_18.txt\n",
      "./results/link_p_c/c_w_block_21.txt\n",
      "./results/link_p_c/c_w_block_3.txt\n",
      "./results/link_p_c/c_w_block_6.txt\n",
      "./results/link_p_c/c_w_block_9.txt\n",
      "./results/link_p_c/h_w_block_0.txt\n",
      "./results/link_p_c/h_w_block_4.txt\n",
      "./results/link_p_c/h_w_block_8.txt\n"
     ]
    }
   ],
   "source": [
    "!find ./results/link_p_c -name c_w*\n",
    "!find ./results/link_p_c -name h_w*"
   ]
  },
  {
   "cell_type": "markdown",
   "metadata": {},
   "source": [
    "### Why was CONVERTTOUPPER run so often?"
   ]
  },
  {
   "cell_type": "code",
   "execution_count": null,
   "metadata": {},
   "outputs": [],
   "source": []
  },
  {
   "cell_type": "code",
   "execution_count": null,
   "metadata": {},
   "outputs": [],
   "source": []
  },
  {
   "cell_type": "code",
   "execution_count": null,
   "metadata": {},
   "outputs": [],
   "source": []
  },
  {
   "cell_type": "code",
   "execution_count": null,
   "metadata": {},
   "outputs": [],
   "source": []
  },
  {
   "cell_type": "code",
   "execution_count": null,
   "metadata": {},
   "outputs": [],
   "source": []
  },
  {
   "cell_type": "code",
   "execution_count": null,
   "metadata": {},
   "outputs": [],
   "source": []
  },
  {
   "cell_type": "code",
   "execution_count": null,
   "metadata": {},
   "outputs": [],
   "source": []
  },
  {
   "cell_type": "code",
   "execution_count": null,
   "metadata": {},
   "outputs": [],
   "source": []
  },
  {
   "cell_type": "code",
   "execution_count": null,
   "metadata": {},
   "outputs": [],
   "source": []
  },
  {
   "cell_type": "code",
   "execution_count": null,
   "metadata": {},
   "outputs": [],
   "source": []
  },
  {
   "cell_type": "code",
   "execution_count": null,
   "metadata": {},
   "outputs": [],
   "source": []
  },
  {
   "cell_type": "code",
   "execution_count": null,
   "metadata": {},
   "outputs": [],
   "source": []
  }
 ],
 "metadata": {
  "kernelspec": {
   "display_name": "comp_w",
   "language": "python",
   "name": "python3"
  },
  "language_info": {
   "codemirror_mode": {
    "name": "ipython",
    "version": 3
   },
   "file_extension": ".py",
   "mimetype": "text/x-python",
   "name": "python",
   "nbconvert_exporter": "python",
   "pygments_lexer": "ipython3",
   "version": "3.13.7"
  }
 },
 "nbformat": 4,
 "nbformat_minor": 2
}
